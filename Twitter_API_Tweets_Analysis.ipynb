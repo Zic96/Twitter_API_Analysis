{
 "cells": [
  {
   "cell_type": "markdown",
   "metadata": {
    "colab": {
     "base_uri": "https://localhost:8080/"
    },
    "executionInfo": {
     "elapsed": 5740,
     "status": "ok",
     "timestamp": 1610579411895,
     "user": {
      "displayName": "Ilias Chamatidis",
      "photoUrl": "",
      "userId": "13226088530674863520"
     },
     "user_tz": -120
    },
    "id": "ZPq4weq7JKZS",
    "outputId": "c942d144-9e49-4ced-f6e0-241a6d8b2e30"
   },
   "source": [
    "# Imports"
   ]
  },
  {
   "cell_type": "code",
   "execution_count": 1,
   "metadata": {
    "ExecuteTime": {
     "end_time": "2022-03-03T07:33:10.272356Z",
     "start_time": "2022-03-03T07:33:09.565065Z"
    },
    "colab": {
     "base_uri": "https://localhost:8080/"
    },
    "executionInfo": {
     "elapsed": 28431,
     "status": "ok",
     "timestamp": 1610579434593,
     "user": {
      "displayName": "Ilias Chamatidis",
      "photoUrl": "",
      "userId": "13226088530674863520"
     },
     "user_tz": -120
    },
    "id": "pJBuBGXSIK6O",
    "outputId": "344cfb2a-d592-4480-b938-4e36ff7179c8"
   },
   "outputs": [],
   "source": [
    "import tweepy \n",
    "import json\n",
    "import pandas as pd\n",
    "from tqdm.notebook import trange, tqdm\n",
    "import time\n",
    "import pickle\n",
    "import matplotlib.pyplot as plt\n",
    "import numpy as np"
   ]
  },
  {
   "cell_type": "markdown",
   "metadata": {
    "id": "VXNv6HHKAc7v"
   },
   "source": [
    "# Use your credentials to connect to the API"
   ]
  },
  {
   "cell_type": "code",
   "execution_count": 73,
   "metadata": {
    "ExecuteTime": {
     "end_time": "2022-03-03T07:33:10.275836Z",
     "start_time": "2022-03-03T07:33:10.273411Z"
    },
    "executionInfo": {
     "elapsed": 759,
     "status": "ok",
     "timestamp": 1610582714100,
     "user": {
      "displayName": "Ilias Chamatidis",
      "photoUrl": "",
      "userId": "13226088530674863520"
     },
     "user_tz": -120
    },
    "id": "sp4Bapt-LIJ6"
   },
   "outputs": [],
   "source": [
    "# Load credentials from json file\n",
    "with open(\"twitter_credentials.json\", \"r\") as file:  \n",
    "    creds = json.load(file)\n",
    "\n",
    "consumer_key = creds['CONSUMER_KEY']\n",
    "consumer_secret = creds['CONSUMER_SECRET']\n",
    "\n",
    "#authorize twitter, initialize tweepy\n",
    "auth = tweepy.OAuthHandler(consumer_key, consumer_secret)\n",
    "api = tweepy.API(auth)"
   ]
  },
  {
   "cell_type": "markdown",
   "metadata": {
    "id": "WYls8nz6AlEk"
   },
   "source": [
    "## Make a request for a tweet contaning 'Greece', then print the user's name, id and the text, likes and retweets of the tweet"
   ]
  },
  {
   "cell_type": "code",
   "execution_count": 74,
   "metadata": {
    "ExecuteTime": {
     "end_time": "2022-03-03T07:33:31.740452Z",
     "start_time": "2022-03-03T07:33:31.055778Z"
    },
    "scrolled": false
   },
   "outputs": [
    {
     "data": {
      "text/plain": [
       "{'created_at': 'Wed Sep 28 17:41:48 +0000 2022',\n",
       " 'id': 1575178976938573832,\n",
       " 'id_str': '1575178976938573832',\n",
       " 'full_text': '@DolioJ @GWheels55 @oulosP Isn’t Greece by their laws pedo simps',\n",
       " 'truncated': False,\n",
       " 'display_text_range': [27, 64],\n",
       " 'entities': {'hashtags': [],\n",
       "  'symbols': [],\n",
       "  'user_mentions': [{'screen_name': 'DolioJ',\n",
       "    'name': 'Tactical Wisdom',\n",
       "    'id': 3889486125,\n",
       "    'id_str': '3889486125',\n",
       "    'indices': [0, 7]},\n",
       "   {'screen_name': 'GWheels55',\n",
       "    'name': 'Garrett Wheeler',\n",
       "    'id': 1684549417,\n",
       "    'id_str': '1684549417',\n",
       "    'indices': [8, 18]},\n",
       "   {'screen_name': 'oulosP',\n",
       "    'name': 'Paul Antonopoulos 🇬🇷🇨🇾',\n",
       "    'id': 3040732982,\n",
       "    'id_str': '3040732982',\n",
       "    'indices': [19, 26]}],\n",
       "  'urls': []},\n",
       " 'metadata': {'iso_language_code': 'en', 'result_type': 'recent'},\n",
       " 'source': '<a href=\"http://twitter.com/download/iphone\" rel=\"nofollow\">Twitter for iPhone</a>',\n",
       " 'in_reply_to_status_id': 1575155624316473344,\n",
       " 'in_reply_to_status_id_str': '1575155624316473344',\n",
       " 'in_reply_to_user_id': 3889486125,\n",
       " 'in_reply_to_user_id_str': '3889486125',\n",
       " 'in_reply_to_screen_name': 'DolioJ',\n",
       " 'user': {'id': 1413676297562247176,\n",
       "  'id_str': '1413676297562247176',\n",
       "  'name': 'nachobusiness',\n",
       "  'screen_name': 'nachobusiness79',\n",
       "  'location': 'St Augustine, FL',\n",
       "  'description': '“You don’t even know my name, I’m the lizard king” handsome/ brilliant',\n",
       "  'url': 'https://t.co/o1EIybj2Jb',\n",
       "  'entities': {'url': {'urls': [{'url': 'https://t.co/o1EIybj2Jb',\n",
       "      'expanded_url': 'http://fookoff.com',\n",
       "      'display_url': 'fookoff.com',\n",
       "      'indices': [0, 23]}]},\n",
       "   'description': {'urls': []}},\n",
       "  'protected': False,\n",
       "  'followers_count': 161,\n",
       "  'friends_count': 472,\n",
       "  'listed_count': 0,\n",
       "  'created_at': 'Sat Jul 10 01:48:02 +0000 2021',\n",
       "  'favourites_count': 11102,\n",
       "  'utc_offset': None,\n",
       "  'time_zone': None,\n",
       "  'geo_enabled': True,\n",
       "  'verified': False,\n",
       "  'statuses_count': 15817,\n",
       "  'lang': None,\n",
       "  'contributors_enabled': False,\n",
       "  'is_translator': False,\n",
       "  'is_translation_enabled': False,\n",
       "  'profile_background_color': 'F5F8FA',\n",
       "  'profile_background_image_url': None,\n",
       "  'profile_background_image_url_https': None,\n",
       "  'profile_background_tile': False,\n",
       "  'profile_image_url': 'http://pbs.twimg.com/profile_images/1534574456387035138/bZtqy_JG_normal.jpg',\n",
       "  'profile_image_url_https': 'https://pbs.twimg.com/profile_images/1534574456387035138/bZtqy_JG_normal.jpg',\n",
       "  'profile_banner_url': 'https://pbs.twimg.com/profile_banners/1413676297562247176/1662505970',\n",
       "  'profile_link_color': '1DA1F2',\n",
       "  'profile_sidebar_border_color': 'C0DEED',\n",
       "  'profile_sidebar_fill_color': 'DDEEF6',\n",
       "  'profile_text_color': '333333',\n",
       "  'profile_use_background_image': True,\n",
       "  'has_extended_profile': True,\n",
       "  'default_profile': True,\n",
       "  'default_profile_image': False,\n",
       "  'following': None,\n",
       "  'follow_request_sent': None,\n",
       "  'notifications': None,\n",
       "  'translator_type': 'none',\n",
       "  'withheld_in_countries': []},\n",
       " 'geo': None,\n",
       " 'coordinates': None,\n",
       " 'place': None,\n",
       " 'contributors': None,\n",
       " 'is_quote_status': False,\n",
       " 'retweet_count': 0,\n",
       " 'favorite_count': 0,\n",
       " 'favorited': False,\n",
       " 'retweeted': False,\n",
       " 'lang': 'en'}"
      ]
     },
     "execution_count": 74,
     "metadata": {},
     "output_type": "execute_result"
    }
   ],
   "source": [
    "results = api.search_tweets(q=\"Greece\", count=200, tweet_mode='extended')\n",
    "#convert tweets to json from tweepy object\n",
    "tweets = [result._json for result in results]\n",
    "tweets[-1]"
   ]
  },
  {
   "cell_type": "code",
   "execution_count": 75,
   "metadata": {
    "ExecuteTime": {
     "end_time": "2022-03-03T07:33:46.657964Z",
     "start_time": "2022-03-03T07:33:46.653773Z"
    }
   },
   "outputs": [
    {
     "data": {
      "text/plain": [
       "100"
      ]
     },
     "execution_count": 75,
     "metadata": {},
     "output_type": "execute_result"
    }
   ],
   "source": [
    "len(tweets)"
   ]
  },
  {
   "cell_type": "code",
   "execution_count": 76,
   "metadata": {
    "ExecuteTime": {
     "end_time": "2022-03-03T07:33:50.420054Z",
     "start_time": "2022-03-03T07:33:50.417213Z"
    }
   },
   "outputs": [
    {
     "data": {
      "text/plain": [
       "1575178976938573831"
      ]
     },
     "execution_count": 76,
     "metadata": {},
     "output_type": "execute_result"
    }
   ],
   "source": [
    "max_id = tweets[-1]['id'] -1\n",
    "max_id"
   ]
  },
  {
   "cell_type": "code",
   "execution_count": 77,
   "metadata": {
    "ExecuteTime": {
     "end_time": "2022-03-03T07:36:23.200479Z",
     "start_time": "2022-03-03T07:36:22.424856Z"
    },
    "scrolled": false
   },
   "outputs": [],
   "source": [
    "results = api.search_tweets(q=\"Greece\", count=200, tweet_mode='extended', max_id = max_id)\n",
    "#convert tweets to json from tweepy object\n",
    "tweets = [result._json for result in results]\n",
    "# tweets[-1]"
   ]
  },
  {
   "cell_type": "code",
   "execution_count": 78,
   "metadata": {
    "ExecuteTime": {
     "end_time": "2022-03-03T07:35:21.262864Z",
     "start_time": "2022-03-03T07:35:21.259951Z"
    }
   },
   "outputs": [
    {
     "data": {
      "text/plain": [
       "100"
      ]
     },
     "execution_count": 78,
     "metadata": {},
     "output_type": "execute_result"
    }
   ],
   "source": [
    "len(tweets)"
   ]
  },
  {
   "cell_type": "code",
   "execution_count": 79,
   "metadata": {
    "ExecuteTime": {
     "end_time": "2022-03-03T07:35:36.138270Z",
     "start_time": "2022-03-03T07:35:36.130494Z"
    }
   },
   "outputs": [
    {
     "data": {
      "text/plain": [
       "1575177704978415615"
      ]
     },
     "execution_count": 79,
     "metadata": {},
     "output_type": "execute_result"
    }
   ],
   "source": [
    "max_id = tweets[-1]['id'] -1\n",
    "max_id"
   ]
  },
  {
   "cell_type": "code",
   "execution_count": 83,
   "metadata": {
    "ExecuteTime": {
     "end_time": "2022-03-03T07:45:15.142183Z",
     "start_time": "2022-03-03T07:44:59.903354Z"
    }
   },
   "outputs": [
    {
     "name": "stdout",
     "output_type": "stream",
     "text": [
      "100 tweets fetched\n",
      "########################################\n",
      "100 tweets fetched\n",
      "########################################\n",
      "100 tweets fetched\n",
      "########################################\n",
      "100 tweets fetched\n",
      "########################################\n"
     ]
    },
    {
     "ename": "KeyboardInterrupt",
     "evalue": "",
     "output_type": "error",
     "traceback": [
      "\u001b[0;31m---------------------------------------------------------------------------\u001b[0m",
      "\u001b[0;31mKeyboardInterrupt\u001b[0m                         Traceback (most recent call last)",
      "Cell \u001b[0;32mIn [83], line 12\u001b[0m\n\u001b[1;32m      9\u001b[0m \u001b[38;5;28mprint\u001b[39m(\u001b[38;5;241m40\u001b[39m\u001b[38;5;241m*\u001b[39m\u001b[38;5;124m\"\u001b[39m\u001b[38;5;124m#\u001b[39m\u001b[38;5;124m\"\u001b[39m)\n\u001b[1;32m     11\u001b[0m \u001b[38;5;28;01mwhile\u001b[39;00m \u001b[38;5;28mlen\u001b[39m(tweets_temp) \u001b[38;5;241m>\u001b[39m \u001b[38;5;241m0\u001b[39m:\n\u001b[0;32m---> 12\u001b[0m     results \u001b[38;5;241m=\u001b[39m api\u001b[38;5;241m.\u001b[39msearch_tweets(q\u001b[38;5;241m=\u001b[39m\u001b[38;5;124m\"\u001b[39m\u001b[38;5;124mGreece\u001b[39m\u001b[38;5;124m\"\u001b[39m, count\u001b[38;5;241m=\u001b[39m\u001b[38;5;241m200\u001b[39m, tweet_mode\u001b[38;5;241m=\u001b[39m\u001b[38;5;124m'\u001b[39m\u001b[38;5;124mextended\u001b[39m\u001b[38;5;124m'\u001b[39m, max_id \u001b[38;5;241m=\u001b[39m oldest)\n\u001b[1;32m     13\u001b[0m     \u001b[38;5;66;03m#convert tweets to json from tweepy object\u001b[39;00m\n\u001b[1;32m     14\u001b[0m     tweets_temp \u001b[38;5;241m=\u001b[39m [result\u001b[38;5;241m.\u001b[39m_json \u001b[38;5;28;01mfor\u001b[39;00m result \u001b[38;5;129;01min\u001b[39;00m results]\n",
      "File \u001b[0;32m/mnt/c/Users/Alberto/Desktop/big_blue/big_blue_env/lib/python3.8/site-packages/tweepy/api.py:33\u001b[0m, in \u001b[0;36mpagination.<locals>.decorator.<locals>.wrapper\u001b[0;34m(*args, **kwargs)\u001b[0m\n\u001b[1;32m     31\u001b[0m \u001b[38;5;129m@functools\u001b[39m\u001b[38;5;241m.\u001b[39mwraps(method)\n\u001b[1;32m     32\u001b[0m \u001b[38;5;28;01mdef\u001b[39;00m \u001b[38;5;21mwrapper\u001b[39m(\u001b[38;5;241m*\u001b[39margs, \u001b[38;5;241m*\u001b[39m\u001b[38;5;241m*\u001b[39mkwargs):\n\u001b[0;32m---> 33\u001b[0m     \u001b[38;5;28;01mreturn\u001b[39;00m \u001b[43mmethod\u001b[49m\u001b[43m(\u001b[49m\u001b[38;5;241;43m*\u001b[39;49m\u001b[43margs\u001b[49m\u001b[43m,\u001b[49m\u001b[43m \u001b[49m\u001b[38;5;241;43m*\u001b[39;49m\u001b[38;5;241;43m*\u001b[39;49m\u001b[43mkwargs\u001b[49m\u001b[43m)\u001b[49m\n",
      "File \u001b[0;32m/mnt/c/Users/Alberto/Desktop/big_blue/big_blue_env/lib/python3.8/site-packages/tweepy/api.py:46\u001b[0m, in \u001b[0;36mpayload.<locals>.decorator.<locals>.wrapper\u001b[0;34m(*args, **kwargs)\u001b[0m\n\u001b[1;32m     44\u001b[0m kwargs[\u001b[38;5;124m'\u001b[39m\u001b[38;5;124mpayload_list\u001b[39m\u001b[38;5;124m'\u001b[39m] \u001b[38;5;241m=\u001b[39m payload_list\n\u001b[1;32m     45\u001b[0m kwargs[\u001b[38;5;124m'\u001b[39m\u001b[38;5;124mpayload_type\u001b[39m\u001b[38;5;124m'\u001b[39m] \u001b[38;5;241m=\u001b[39m payload_type\n\u001b[0;32m---> 46\u001b[0m \u001b[38;5;28;01mreturn\u001b[39;00m \u001b[43mmethod\u001b[49m\u001b[43m(\u001b[49m\u001b[38;5;241;43m*\u001b[39;49m\u001b[43margs\u001b[49m\u001b[43m,\u001b[49m\u001b[43m \u001b[49m\u001b[38;5;241;43m*\u001b[39;49m\u001b[38;5;241;43m*\u001b[39;49m\u001b[43mkwargs\u001b[49m\u001b[43m)\u001b[49m\n",
      "File \u001b[0;32m/mnt/c/Users/Alberto/Desktop/big_blue/big_blue_env/lib/python3.8/site-packages/tweepy/api.py:1303\u001b[0m, in \u001b[0;36mAPI.search_tweets\u001b[0;34m(self, q, **kwargs)\u001b[0m\n\u001b[1;32m   1209\u001b[0m \u001b[38;5;129m@pagination\u001b[39m(mode\u001b[38;5;241m=\u001b[39m\u001b[38;5;124m'\u001b[39m\u001b[38;5;124mid\u001b[39m\u001b[38;5;124m'\u001b[39m)\n\u001b[1;32m   1210\u001b[0m \u001b[38;5;129m@payload\u001b[39m(\u001b[38;5;124m'\u001b[39m\u001b[38;5;124msearch_results\u001b[39m\u001b[38;5;124m'\u001b[39m)\n\u001b[1;32m   1211\u001b[0m \u001b[38;5;28;01mdef\u001b[39;00m \u001b[38;5;21msearch_tweets\u001b[39m(\u001b[38;5;28mself\u001b[39m, q, \u001b[38;5;241m*\u001b[39m\u001b[38;5;241m*\u001b[39mkwargs):\n\u001b[1;32m   1212\u001b[0m     \u001b[38;5;124;03m\"\"\"search_tweets(q, *, geocode, lang, locale, result_type, count, \\\u001b[39;00m\n\u001b[1;32m   1213\u001b[0m \u001b[38;5;124;03m                     until, since_id, max_id, include_entities)\u001b[39;00m\n\u001b[1;32m   1214\u001b[0m \n\u001b[0;32m   (...)\u001b[0m\n\u001b[1;32m   1301\u001b[0m \u001b[38;5;124;03m    .. _Twitter's documentation on the standard search API: https://developer.twitter.com/en/docs/twitter-api/v1/tweets/search/overview\u001b[39;00m\n\u001b[1;32m   1302\u001b[0m \u001b[38;5;124;03m    \"\"\"\u001b[39;00m\n\u001b[0;32m-> 1303\u001b[0m     \u001b[38;5;28;01mreturn\u001b[39;00m \u001b[38;5;28;43mself\u001b[39;49m\u001b[38;5;241;43m.\u001b[39;49m\u001b[43mrequest\u001b[49m\u001b[43m(\u001b[49m\n\u001b[1;32m   1304\u001b[0m \u001b[43m        \u001b[49m\u001b[38;5;124;43m'\u001b[39;49m\u001b[38;5;124;43mGET\u001b[39;49m\u001b[38;5;124;43m'\u001b[39;49m\u001b[43m,\u001b[49m\u001b[43m \u001b[49m\u001b[38;5;124;43m'\u001b[39;49m\u001b[38;5;124;43msearch/tweets\u001b[39;49m\u001b[38;5;124;43m'\u001b[39;49m\u001b[43m,\u001b[49m\u001b[43m \u001b[49m\u001b[43mendpoint_parameters\u001b[49m\u001b[38;5;241;43m=\u001b[39;49m\u001b[43m(\u001b[49m\n\u001b[1;32m   1305\u001b[0m \u001b[43m            \u001b[49m\u001b[38;5;124;43m'\u001b[39;49m\u001b[38;5;124;43mq\u001b[39;49m\u001b[38;5;124;43m'\u001b[39;49m\u001b[43m,\u001b[49m\u001b[43m \u001b[49m\u001b[38;5;124;43m'\u001b[39;49m\u001b[38;5;124;43mgeocode\u001b[39;49m\u001b[38;5;124;43m'\u001b[39;49m\u001b[43m,\u001b[49m\u001b[43m \u001b[49m\u001b[38;5;124;43m'\u001b[39;49m\u001b[38;5;124;43mlang\u001b[39;49m\u001b[38;5;124;43m'\u001b[39;49m\u001b[43m,\u001b[49m\u001b[43m \u001b[49m\u001b[38;5;124;43m'\u001b[39;49m\u001b[38;5;124;43mlocale\u001b[39;49m\u001b[38;5;124;43m'\u001b[39;49m\u001b[43m,\u001b[49m\u001b[43m \u001b[49m\u001b[38;5;124;43m'\u001b[39;49m\u001b[38;5;124;43mresult_type\u001b[39;49m\u001b[38;5;124;43m'\u001b[39;49m\u001b[43m,\u001b[49m\u001b[43m \u001b[49m\u001b[38;5;124;43m'\u001b[39;49m\u001b[38;5;124;43mcount\u001b[39;49m\u001b[38;5;124;43m'\u001b[39;49m\u001b[43m,\u001b[49m\n\u001b[1;32m   1306\u001b[0m \u001b[43m            \u001b[49m\u001b[38;5;124;43m'\u001b[39;49m\u001b[38;5;124;43muntil\u001b[39;49m\u001b[38;5;124;43m'\u001b[39;49m\u001b[43m,\u001b[49m\u001b[43m \u001b[49m\u001b[38;5;124;43m'\u001b[39;49m\u001b[38;5;124;43msince_id\u001b[39;49m\u001b[38;5;124;43m'\u001b[39;49m\u001b[43m,\u001b[49m\u001b[43m \u001b[49m\u001b[38;5;124;43m'\u001b[39;49m\u001b[38;5;124;43mmax_id\u001b[39;49m\u001b[38;5;124;43m'\u001b[39;49m\u001b[43m,\u001b[49m\u001b[43m \u001b[49m\u001b[38;5;124;43m'\u001b[39;49m\u001b[38;5;124;43minclude_entities\u001b[39;49m\u001b[38;5;124;43m'\u001b[39;49m\n\u001b[1;32m   1307\u001b[0m \u001b[43m        \u001b[49m\u001b[43m)\u001b[49m\u001b[43m,\u001b[49m\u001b[43m \u001b[49m\u001b[43mq\u001b[49m\u001b[38;5;241;43m=\u001b[39;49m\u001b[43mq\u001b[49m\u001b[43m,\u001b[49m\u001b[43m \u001b[49m\u001b[38;5;241;43m*\u001b[39;49m\u001b[38;5;241;43m*\u001b[39;49m\u001b[43mkwargs\u001b[49m\n\u001b[1;32m   1308\u001b[0m \u001b[43m    \u001b[49m\u001b[43m)\u001b[49m\n",
      "File \u001b[0;32m/mnt/c/Users/Alberto/Desktop/big_blue/big_blue_env/lib/python3.8/site-packages/tweepy/api.py:216\u001b[0m, in \u001b[0;36mAPI.request\u001b[0;34m(self, method, endpoint, endpoint_parameters, params, headers, json_payload, parser, payload_list, payload_type, post_data, files, require_auth, return_cursors, upload_api, use_cache, **kwargs)\u001b[0m\n\u001b[1;32m    214\u001b[0m \u001b[38;5;66;03m# Execute request\u001b[39;00m\n\u001b[1;32m    215\u001b[0m \u001b[38;5;28;01mtry\u001b[39;00m:\n\u001b[0;32m--> 216\u001b[0m     resp \u001b[38;5;241m=\u001b[39m \u001b[38;5;28;43mself\u001b[39;49m\u001b[38;5;241;43m.\u001b[39;49m\u001b[43msession\u001b[49m\u001b[38;5;241;43m.\u001b[39;49m\u001b[43mrequest\u001b[49m\u001b[43m(\u001b[49m\n\u001b[1;32m    217\u001b[0m \u001b[43m        \u001b[49m\u001b[43mmethod\u001b[49m\u001b[43m,\u001b[49m\u001b[43m \u001b[49m\u001b[43murl\u001b[49m\u001b[43m,\u001b[49m\u001b[43m \u001b[49m\u001b[43mparams\u001b[49m\u001b[38;5;241;43m=\u001b[39;49m\u001b[43mparams\u001b[49m\u001b[43m,\u001b[49m\u001b[43m \u001b[49m\u001b[43mheaders\u001b[49m\u001b[38;5;241;43m=\u001b[39;49m\u001b[43mheaders\u001b[49m\u001b[43m,\u001b[49m\n\u001b[1;32m    218\u001b[0m \u001b[43m        \u001b[49m\u001b[43mdata\u001b[49m\u001b[38;5;241;43m=\u001b[39;49m\u001b[43mpost_data\u001b[49m\u001b[43m,\u001b[49m\u001b[43m \u001b[49m\u001b[43mfiles\u001b[49m\u001b[38;5;241;43m=\u001b[39;49m\u001b[43mfiles\u001b[49m\u001b[43m,\u001b[49m\u001b[43m \u001b[49m\u001b[43mjson\u001b[49m\u001b[38;5;241;43m=\u001b[39;49m\u001b[43mjson_payload\u001b[49m\u001b[43m,\u001b[49m\n\u001b[1;32m    219\u001b[0m \u001b[43m        \u001b[49m\u001b[43mtimeout\u001b[49m\u001b[38;5;241;43m=\u001b[39;49m\u001b[38;5;28;43mself\u001b[39;49m\u001b[38;5;241;43m.\u001b[39;49m\u001b[43mtimeout\u001b[49m\u001b[43m,\u001b[49m\u001b[43m \u001b[49m\u001b[43mauth\u001b[49m\u001b[38;5;241;43m=\u001b[39;49m\u001b[43mauth\u001b[49m\u001b[43m,\u001b[49m\u001b[43m \u001b[49m\u001b[43mproxies\u001b[49m\u001b[38;5;241;43m=\u001b[39;49m\u001b[38;5;28;43mself\u001b[39;49m\u001b[38;5;241;43m.\u001b[39;49m\u001b[43mproxy\u001b[49m\n\u001b[1;32m    220\u001b[0m \u001b[43m    \u001b[49m\u001b[43m)\u001b[49m\n\u001b[1;32m    221\u001b[0m \u001b[38;5;28;01mexcept\u001b[39;00m \u001b[38;5;167;01mException\u001b[39;00m \u001b[38;5;28;01mas\u001b[39;00m e:\n\u001b[1;32m    222\u001b[0m     \u001b[38;5;28;01mraise\u001b[39;00m TweepyException(\u001b[38;5;124mf\u001b[39m\u001b[38;5;124m'\u001b[39m\u001b[38;5;124mFailed to send request: \u001b[39m\u001b[38;5;132;01m{\u001b[39;00me\u001b[38;5;132;01m}\u001b[39;00m\u001b[38;5;124m'\u001b[39m)\u001b[38;5;241m.\u001b[39mwith_traceback(sys\u001b[38;5;241m.\u001b[39mexc_info()[\u001b[38;5;241m2\u001b[39m])\n",
      "File \u001b[0;32m/mnt/c/Users/Alberto/Desktop/big_blue/big_blue_env/lib/python3.8/site-packages/requests/sessions.py:587\u001b[0m, in \u001b[0;36mSession.request\u001b[0;34m(self, method, url, params, data, headers, cookies, files, auth, timeout, allow_redirects, proxies, hooks, stream, verify, cert, json)\u001b[0m\n\u001b[1;32m    582\u001b[0m send_kwargs \u001b[38;5;241m=\u001b[39m {\n\u001b[1;32m    583\u001b[0m     \u001b[38;5;124m\"\u001b[39m\u001b[38;5;124mtimeout\u001b[39m\u001b[38;5;124m\"\u001b[39m: timeout,\n\u001b[1;32m    584\u001b[0m     \u001b[38;5;124m\"\u001b[39m\u001b[38;5;124mallow_redirects\u001b[39m\u001b[38;5;124m\"\u001b[39m: allow_redirects,\n\u001b[1;32m    585\u001b[0m }\n\u001b[1;32m    586\u001b[0m send_kwargs\u001b[38;5;241m.\u001b[39mupdate(settings)\n\u001b[0;32m--> 587\u001b[0m resp \u001b[38;5;241m=\u001b[39m \u001b[38;5;28;43mself\u001b[39;49m\u001b[38;5;241;43m.\u001b[39;49m\u001b[43msend\u001b[49m\u001b[43m(\u001b[49m\u001b[43mprep\u001b[49m\u001b[43m,\u001b[49m\u001b[43m \u001b[49m\u001b[38;5;241;43m*\u001b[39;49m\u001b[38;5;241;43m*\u001b[39;49m\u001b[43msend_kwargs\u001b[49m\u001b[43m)\u001b[49m\n\u001b[1;32m    589\u001b[0m \u001b[38;5;28;01mreturn\u001b[39;00m resp\n",
      "File \u001b[0;32m/mnt/c/Users/Alberto/Desktop/big_blue/big_blue_env/lib/python3.8/site-packages/requests/sessions.py:701\u001b[0m, in \u001b[0;36mSession.send\u001b[0;34m(self, request, **kwargs)\u001b[0m\n\u001b[1;32m    698\u001b[0m start \u001b[38;5;241m=\u001b[39m preferred_clock()\n\u001b[1;32m    700\u001b[0m \u001b[38;5;66;03m# Send the request\u001b[39;00m\n\u001b[0;32m--> 701\u001b[0m r \u001b[38;5;241m=\u001b[39m \u001b[43madapter\u001b[49m\u001b[38;5;241;43m.\u001b[39;49m\u001b[43msend\u001b[49m\u001b[43m(\u001b[49m\u001b[43mrequest\u001b[49m\u001b[43m,\u001b[49m\u001b[43m \u001b[49m\u001b[38;5;241;43m*\u001b[39;49m\u001b[38;5;241;43m*\u001b[39;49m\u001b[43mkwargs\u001b[49m\u001b[43m)\u001b[49m\n\u001b[1;32m    703\u001b[0m \u001b[38;5;66;03m# Total elapsed time of the request (approximately)\u001b[39;00m\n\u001b[1;32m    704\u001b[0m elapsed \u001b[38;5;241m=\u001b[39m preferred_clock() \u001b[38;5;241m-\u001b[39m start\n",
      "File \u001b[0;32m/mnt/c/Users/Alberto/Desktop/big_blue/big_blue_env/lib/python3.8/site-packages/requests/adapters.py:489\u001b[0m, in \u001b[0;36mHTTPAdapter.send\u001b[0;34m(self, request, stream, timeout, verify, cert, proxies)\u001b[0m\n\u001b[1;32m    487\u001b[0m \u001b[38;5;28;01mtry\u001b[39;00m:\n\u001b[1;32m    488\u001b[0m     \u001b[38;5;28;01mif\u001b[39;00m \u001b[38;5;129;01mnot\u001b[39;00m chunked:\n\u001b[0;32m--> 489\u001b[0m         resp \u001b[38;5;241m=\u001b[39m \u001b[43mconn\u001b[49m\u001b[38;5;241;43m.\u001b[39;49m\u001b[43murlopen\u001b[49m\u001b[43m(\u001b[49m\n\u001b[1;32m    490\u001b[0m \u001b[43m            \u001b[49m\u001b[43mmethod\u001b[49m\u001b[38;5;241;43m=\u001b[39;49m\u001b[43mrequest\u001b[49m\u001b[38;5;241;43m.\u001b[39;49m\u001b[43mmethod\u001b[49m\u001b[43m,\u001b[49m\n\u001b[1;32m    491\u001b[0m \u001b[43m            \u001b[49m\u001b[43murl\u001b[49m\u001b[38;5;241;43m=\u001b[39;49m\u001b[43murl\u001b[49m\u001b[43m,\u001b[49m\n\u001b[1;32m    492\u001b[0m \u001b[43m            \u001b[49m\u001b[43mbody\u001b[49m\u001b[38;5;241;43m=\u001b[39;49m\u001b[43mrequest\u001b[49m\u001b[38;5;241;43m.\u001b[39;49m\u001b[43mbody\u001b[49m\u001b[43m,\u001b[49m\n\u001b[1;32m    493\u001b[0m \u001b[43m            \u001b[49m\u001b[43mheaders\u001b[49m\u001b[38;5;241;43m=\u001b[39;49m\u001b[43mrequest\u001b[49m\u001b[38;5;241;43m.\u001b[39;49m\u001b[43mheaders\u001b[49m\u001b[43m,\u001b[49m\n\u001b[1;32m    494\u001b[0m \u001b[43m            \u001b[49m\u001b[43mredirect\u001b[49m\u001b[38;5;241;43m=\u001b[39;49m\u001b[38;5;28;43;01mFalse\u001b[39;49;00m\u001b[43m,\u001b[49m\n\u001b[1;32m    495\u001b[0m \u001b[43m            \u001b[49m\u001b[43massert_same_host\u001b[49m\u001b[38;5;241;43m=\u001b[39;49m\u001b[38;5;28;43;01mFalse\u001b[39;49;00m\u001b[43m,\u001b[49m\n\u001b[1;32m    496\u001b[0m \u001b[43m            \u001b[49m\u001b[43mpreload_content\u001b[49m\u001b[38;5;241;43m=\u001b[39;49m\u001b[38;5;28;43;01mFalse\u001b[39;49;00m\u001b[43m,\u001b[49m\n\u001b[1;32m    497\u001b[0m \u001b[43m            \u001b[49m\u001b[43mdecode_content\u001b[49m\u001b[38;5;241;43m=\u001b[39;49m\u001b[38;5;28;43;01mFalse\u001b[39;49;00m\u001b[43m,\u001b[49m\n\u001b[1;32m    498\u001b[0m \u001b[43m            \u001b[49m\u001b[43mretries\u001b[49m\u001b[38;5;241;43m=\u001b[39;49m\u001b[38;5;28;43mself\u001b[39;49m\u001b[38;5;241;43m.\u001b[39;49m\u001b[43mmax_retries\u001b[49m\u001b[43m,\u001b[49m\n\u001b[1;32m    499\u001b[0m \u001b[43m            \u001b[49m\u001b[43mtimeout\u001b[49m\u001b[38;5;241;43m=\u001b[39;49m\u001b[43mtimeout\u001b[49m\u001b[43m,\u001b[49m\n\u001b[1;32m    500\u001b[0m \u001b[43m        \u001b[49m\u001b[43m)\u001b[49m\n\u001b[1;32m    502\u001b[0m     \u001b[38;5;66;03m# Send the request.\u001b[39;00m\n\u001b[1;32m    503\u001b[0m     \u001b[38;5;28;01melse\u001b[39;00m:\n\u001b[1;32m    504\u001b[0m         \u001b[38;5;28;01mif\u001b[39;00m \u001b[38;5;28mhasattr\u001b[39m(conn, \u001b[38;5;124m\"\u001b[39m\u001b[38;5;124mproxy_pool\u001b[39m\u001b[38;5;124m\"\u001b[39m):\n",
      "File \u001b[0;32m/mnt/c/Users/Alberto/Desktop/big_blue/big_blue_env/lib/python3.8/site-packages/urllib3/connectionpool.py:703\u001b[0m, in \u001b[0;36mHTTPConnectionPool.urlopen\u001b[0;34m(self, method, url, body, headers, retries, redirect, assert_same_host, timeout, pool_timeout, release_conn, chunked, body_pos, **response_kw)\u001b[0m\n\u001b[1;32m    700\u001b[0m     \u001b[38;5;28mself\u001b[39m\u001b[38;5;241m.\u001b[39m_prepare_proxy(conn)\n\u001b[1;32m    702\u001b[0m \u001b[38;5;66;03m# Make the request on the httplib connection object.\u001b[39;00m\n\u001b[0;32m--> 703\u001b[0m httplib_response \u001b[38;5;241m=\u001b[39m \u001b[38;5;28;43mself\u001b[39;49m\u001b[38;5;241;43m.\u001b[39;49m\u001b[43m_make_request\u001b[49m\u001b[43m(\u001b[49m\n\u001b[1;32m    704\u001b[0m \u001b[43m    \u001b[49m\u001b[43mconn\u001b[49m\u001b[43m,\u001b[49m\n\u001b[1;32m    705\u001b[0m \u001b[43m    \u001b[49m\u001b[43mmethod\u001b[49m\u001b[43m,\u001b[49m\n\u001b[1;32m    706\u001b[0m \u001b[43m    \u001b[49m\u001b[43murl\u001b[49m\u001b[43m,\u001b[49m\n\u001b[1;32m    707\u001b[0m \u001b[43m    \u001b[49m\u001b[43mtimeout\u001b[49m\u001b[38;5;241;43m=\u001b[39;49m\u001b[43mtimeout_obj\u001b[49m\u001b[43m,\u001b[49m\n\u001b[1;32m    708\u001b[0m \u001b[43m    \u001b[49m\u001b[43mbody\u001b[49m\u001b[38;5;241;43m=\u001b[39;49m\u001b[43mbody\u001b[49m\u001b[43m,\u001b[49m\n\u001b[1;32m    709\u001b[0m \u001b[43m    \u001b[49m\u001b[43mheaders\u001b[49m\u001b[38;5;241;43m=\u001b[39;49m\u001b[43mheaders\u001b[49m\u001b[43m,\u001b[49m\n\u001b[1;32m    710\u001b[0m \u001b[43m    \u001b[49m\u001b[43mchunked\u001b[49m\u001b[38;5;241;43m=\u001b[39;49m\u001b[43mchunked\u001b[49m\u001b[43m,\u001b[49m\n\u001b[1;32m    711\u001b[0m \u001b[43m\u001b[49m\u001b[43m)\u001b[49m\n\u001b[1;32m    713\u001b[0m \u001b[38;5;66;03m# If we're going to release the connection in ``finally:``, then\u001b[39;00m\n\u001b[1;32m    714\u001b[0m \u001b[38;5;66;03m# the response doesn't need to know about the connection. Otherwise\u001b[39;00m\n\u001b[1;32m    715\u001b[0m \u001b[38;5;66;03m# it will also try to release it and we'll have a double-release\u001b[39;00m\n\u001b[1;32m    716\u001b[0m \u001b[38;5;66;03m# mess.\u001b[39;00m\n\u001b[1;32m    717\u001b[0m response_conn \u001b[38;5;241m=\u001b[39m conn \u001b[38;5;28;01mif\u001b[39;00m \u001b[38;5;129;01mnot\u001b[39;00m release_conn \u001b[38;5;28;01melse\u001b[39;00m \u001b[38;5;28;01mNone\u001b[39;00m\n",
      "File \u001b[0;32m/mnt/c/Users/Alberto/Desktop/big_blue/big_blue_env/lib/python3.8/site-packages/urllib3/connectionpool.py:449\u001b[0m, in \u001b[0;36mHTTPConnectionPool._make_request\u001b[0;34m(self, conn, method, url, timeout, chunked, **httplib_request_kw)\u001b[0m\n\u001b[1;32m    444\u001b[0m             httplib_response \u001b[38;5;241m=\u001b[39m conn\u001b[38;5;241m.\u001b[39mgetresponse()\n\u001b[1;32m    445\u001b[0m         \u001b[38;5;28;01mexcept\u001b[39;00m \u001b[38;5;167;01mBaseException\u001b[39;00m \u001b[38;5;28;01mas\u001b[39;00m e:\n\u001b[1;32m    446\u001b[0m             \u001b[38;5;66;03m# Remove the TypeError from the exception chain in\u001b[39;00m\n\u001b[1;32m    447\u001b[0m             \u001b[38;5;66;03m# Python 3 (including for exceptions like SystemExit).\u001b[39;00m\n\u001b[1;32m    448\u001b[0m             \u001b[38;5;66;03m# Otherwise it looks like a bug in the code.\u001b[39;00m\n\u001b[0;32m--> 449\u001b[0m             \u001b[43msix\u001b[49m\u001b[38;5;241;43m.\u001b[39;49m\u001b[43mraise_from\u001b[49m\u001b[43m(\u001b[49m\u001b[43me\u001b[49m\u001b[43m,\u001b[49m\u001b[43m \u001b[49m\u001b[38;5;28;43;01mNone\u001b[39;49;00m\u001b[43m)\u001b[49m\n\u001b[1;32m    450\u001b[0m \u001b[38;5;28;01mexcept\u001b[39;00m (SocketTimeout, BaseSSLError, SocketError) \u001b[38;5;28;01mas\u001b[39;00m e:\n\u001b[1;32m    451\u001b[0m     \u001b[38;5;28mself\u001b[39m\u001b[38;5;241m.\u001b[39m_raise_timeout(err\u001b[38;5;241m=\u001b[39me, url\u001b[38;5;241m=\u001b[39murl, timeout_value\u001b[38;5;241m=\u001b[39mread_timeout)\n",
      "File \u001b[0;32m<string>:3\u001b[0m, in \u001b[0;36mraise_from\u001b[0;34m(value, from_value)\u001b[0m\n",
      "File \u001b[0;32m/mnt/c/Users/Alberto/Desktop/big_blue/big_blue_env/lib/python3.8/site-packages/urllib3/connectionpool.py:444\u001b[0m, in \u001b[0;36mHTTPConnectionPool._make_request\u001b[0;34m(self, conn, method, url, timeout, chunked, **httplib_request_kw)\u001b[0m\n\u001b[1;32m    441\u001b[0m \u001b[38;5;28;01mexcept\u001b[39;00m \u001b[38;5;167;01mTypeError\u001b[39;00m:\n\u001b[1;32m    442\u001b[0m     \u001b[38;5;66;03m# Python 3\u001b[39;00m\n\u001b[1;32m    443\u001b[0m     \u001b[38;5;28;01mtry\u001b[39;00m:\n\u001b[0;32m--> 444\u001b[0m         httplib_response \u001b[38;5;241m=\u001b[39m \u001b[43mconn\u001b[49m\u001b[38;5;241;43m.\u001b[39;49m\u001b[43mgetresponse\u001b[49m\u001b[43m(\u001b[49m\u001b[43m)\u001b[49m\n\u001b[1;32m    445\u001b[0m     \u001b[38;5;28;01mexcept\u001b[39;00m \u001b[38;5;167;01mBaseException\u001b[39;00m \u001b[38;5;28;01mas\u001b[39;00m e:\n\u001b[1;32m    446\u001b[0m         \u001b[38;5;66;03m# Remove the TypeError from the exception chain in\u001b[39;00m\n\u001b[1;32m    447\u001b[0m         \u001b[38;5;66;03m# Python 3 (including for exceptions like SystemExit).\u001b[39;00m\n\u001b[1;32m    448\u001b[0m         \u001b[38;5;66;03m# Otherwise it looks like a bug in the code.\u001b[39;00m\n\u001b[1;32m    449\u001b[0m         six\u001b[38;5;241m.\u001b[39mraise_from(e, \u001b[38;5;28;01mNone\u001b[39;00m)\n",
      "File \u001b[0;32m/usr/lib/python3.8/http/client.py:1348\u001b[0m, in \u001b[0;36mHTTPConnection.getresponse\u001b[0;34m(self)\u001b[0m\n\u001b[1;32m   1346\u001b[0m \u001b[38;5;28;01mtry\u001b[39;00m:\n\u001b[1;32m   1347\u001b[0m     \u001b[38;5;28;01mtry\u001b[39;00m:\n\u001b[0;32m-> 1348\u001b[0m         \u001b[43mresponse\u001b[49m\u001b[38;5;241;43m.\u001b[39;49m\u001b[43mbegin\u001b[49m\u001b[43m(\u001b[49m\u001b[43m)\u001b[49m\n\u001b[1;32m   1349\u001b[0m     \u001b[38;5;28;01mexcept\u001b[39;00m \u001b[38;5;167;01mConnectionError\u001b[39;00m:\n\u001b[1;32m   1350\u001b[0m         \u001b[38;5;28mself\u001b[39m\u001b[38;5;241m.\u001b[39mclose()\n",
      "File \u001b[0;32m/usr/lib/python3.8/http/client.py:316\u001b[0m, in \u001b[0;36mHTTPResponse.begin\u001b[0;34m(self)\u001b[0m\n\u001b[1;32m    314\u001b[0m \u001b[38;5;66;03m# read until we get a non-100 response\u001b[39;00m\n\u001b[1;32m    315\u001b[0m \u001b[38;5;28;01mwhile\u001b[39;00m \u001b[38;5;28;01mTrue\u001b[39;00m:\n\u001b[0;32m--> 316\u001b[0m     version, status, reason \u001b[38;5;241m=\u001b[39m \u001b[38;5;28;43mself\u001b[39;49m\u001b[38;5;241;43m.\u001b[39;49m\u001b[43m_read_status\u001b[49m\u001b[43m(\u001b[49m\u001b[43m)\u001b[49m\n\u001b[1;32m    317\u001b[0m     \u001b[38;5;28;01mif\u001b[39;00m status \u001b[38;5;241m!=\u001b[39m CONTINUE:\n\u001b[1;32m    318\u001b[0m         \u001b[38;5;28;01mbreak\u001b[39;00m\n",
      "File \u001b[0;32m/usr/lib/python3.8/http/client.py:277\u001b[0m, in \u001b[0;36mHTTPResponse._read_status\u001b[0;34m(self)\u001b[0m\n\u001b[1;32m    276\u001b[0m \u001b[38;5;28;01mdef\u001b[39;00m \u001b[38;5;21m_read_status\u001b[39m(\u001b[38;5;28mself\u001b[39m):\n\u001b[0;32m--> 277\u001b[0m     line \u001b[38;5;241m=\u001b[39m \u001b[38;5;28mstr\u001b[39m(\u001b[38;5;28;43mself\u001b[39;49m\u001b[38;5;241;43m.\u001b[39;49m\u001b[43mfp\u001b[49m\u001b[38;5;241;43m.\u001b[39;49m\u001b[43mreadline\u001b[49m\u001b[43m(\u001b[49m\u001b[43m_MAXLINE\u001b[49m\u001b[43m \u001b[49m\u001b[38;5;241;43m+\u001b[39;49m\u001b[43m \u001b[49m\u001b[38;5;241;43m1\u001b[39;49m\u001b[43m)\u001b[49m, \u001b[38;5;124m\"\u001b[39m\u001b[38;5;124miso-8859-1\u001b[39m\u001b[38;5;124m\"\u001b[39m)\n\u001b[1;32m    278\u001b[0m     \u001b[38;5;28;01mif\u001b[39;00m \u001b[38;5;28mlen\u001b[39m(line) \u001b[38;5;241m>\u001b[39m _MAXLINE:\n\u001b[1;32m    279\u001b[0m         \u001b[38;5;28;01mraise\u001b[39;00m LineTooLong(\u001b[38;5;124m\"\u001b[39m\u001b[38;5;124mstatus line\u001b[39m\u001b[38;5;124m\"\u001b[39m)\n",
      "File \u001b[0;32m/usr/lib/python3.8/socket.py:669\u001b[0m, in \u001b[0;36mSocketIO.readinto\u001b[0;34m(self, b)\u001b[0m\n\u001b[1;32m    667\u001b[0m \u001b[38;5;28;01mwhile\u001b[39;00m \u001b[38;5;28;01mTrue\u001b[39;00m:\n\u001b[1;32m    668\u001b[0m     \u001b[38;5;28;01mtry\u001b[39;00m:\n\u001b[0;32m--> 669\u001b[0m         \u001b[38;5;28;01mreturn\u001b[39;00m \u001b[38;5;28;43mself\u001b[39;49m\u001b[38;5;241;43m.\u001b[39;49m\u001b[43m_sock\u001b[49m\u001b[38;5;241;43m.\u001b[39;49m\u001b[43mrecv_into\u001b[49m\u001b[43m(\u001b[49m\u001b[43mb\u001b[49m\u001b[43m)\u001b[49m\n\u001b[1;32m    670\u001b[0m     \u001b[38;5;28;01mexcept\u001b[39;00m timeout:\n\u001b[1;32m    671\u001b[0m         \u001b[38;5;28mself\u001b[39m\u001b[38;5;241m.\u001b[39m_timeout_occurred \u001b[38;5;241m=\u001b[39m \u001b[38;5;28;01mTrue\u001b[39;00m\n",
      "File \u001b[0;32m/usr/lib/python3.8/ssl.py:1241\u001b[0m, in \u001b[0;36mSSLSocket.recv_into\u001b[0;34m(self, buffer, nbytes, flags)\u001b[0m\n\u001b[1;32m   1237\u001b[0m     \u001b[38;5;28;01mif\u001b[39;00m flags \u001b[38;5;241m!=\u001b[39m \u001b[38;5;241m0\u001b[39m:\n\u001b[1;32m   1238\u001b[0m         \u001b[38;5;28;01mraise\u001b[39;00m \u001b[38;5;167;01mValueError\u001b[39;00m(\n\u001b[1;32m   1239\u001b[0m           \u001b[38;5;124m\"\u001b[39m\u001b[38;5;124mnon-zero flags not allowed in calls to recv_into() on \u001b[39m\u001b[38;5;132;01m%s\u001b[39;00m\u001b[38;5;124m\"\u001b[39m \u001b[38;5;241m%\u001b[39m\n\u001b[1;32m   1240\u001b[0m           \u001b[38;5;28mself\u001b[39m\u001b[38;5;241m.\u001b[39m\u001b[38;5;18m__class__\u001b[39m)\n\u001b[0;32m-> 1241\u001b[0m     \u001b[38;5;28;01mreturn\u001b[39;00m \u001b[38;5;28;43mself\u001b[39;49m\u001b[38;5;241;43m.\u001b[39;49m\u001b[43mread\u001b[49m\u001b[43m(\u001b[49m\u001b[43mnbytes\u001b[49m\u001b[43m,\u001b[49m\u001b[43m \u001b[49m\u001b[43mbuffer\u001b[49m\u001b[43m)\u001b[49m\n\u001b[1;32m   1242\u001b[0m \u001b[38;5;28;01melse\u001b[39;00m:\n\u001b[1;32m   1243\u001b[0m     \u001b[38;5;28;01mreturn\u001b[39;00m \u001b[38;5;28msuper\u001b[39m()\u001b[38;5;241m.\u001b[39mrecv_into(buffer, nbytes, flags)\n",
      "File \u001b[0;32m/usr/lib/python3.8/ssl.py:1099\u001b[0m, in \u001b[0;36mSSLSocket.read\u001b[0;34m(self, len, buffer)\u001b[0m\n\u001b[1;32m   1097\u001b[0m \u001b[38;5;28;01mtry\u001b[39;00m:\n\u001b[1;32m   1098\u001b[0m     \u001b[38;5;28;01mif\u001b[39;00m buffer \u001b[38;5;129;01mis\u001b[39;00m \u001b[38;5;129;01mnot\u001b[39;00m \u001b[38;5;28;01mNone\u001b[39;00m:\n\u001b[0;32m-> 1099\u001b[0m         \u001b[38;5;28;01mreturn\u001b[39;00m \u001b[38;5;28;43mself\u001b[39;49m\u001b[38;5;241;43m.\u001b[39;49m\u001b[43m_sslobj\u001b[49m\u001b[38;5;241;43m.\u001b[39;49m\u001b[43mread\u001b[49m\u001b[43m(\u001b[49m\u001b[38;5;28;43mlen\u001b[39;49m\u001b[43m,\u001b[49m\u001b[43m \u001b[49m\u001b[43mbuffer\u001b[49m\u001b[43m)\u001b[49m\n\u001b[1;32m   1100\u001b[0m     \u001b[38;5;28;01melse\u001b[39;00m:\n\u001b[1;32m   1101\u001b[0m         \u001b[38;5;28;01mreturn\u001b[39;00m \u001b[38;5;28mself\u001b[39m\u001b[38;5;241m.\u001b[39m_sslobj\u001b[38;5;241m.\u001b[39mread(\u001b[38;5;28mlen\u001b[39m)\n",
      "\u001b[0;31mKeyboardInterrupt\u001b[0m: "
     ]
    }
   ],
   "source": [
    "tweets = []\n",
    "\n",
    "results = api.search_tweets(q=\"Greece\", count=200, tweet_mode='extended')\n",
    "#convert tweets to json from tweepy object\n",
    "tweets_temp = [result._json for result in results]\n",
    "tweets.extend(tweets_temp)\n",
    "oldest = tweets_temp[-1]['id']-1\n",
    "print(f\"{len(tweets_temp)} tweets fetched\")\n",
    "print(40*\"#\")\n",
    "\n",
    "while len(tweets_temp) > 0:\n",
    "    results = api.search_tweets(q=\"Greece\", count=200, tweet_mode='extended', max_id = oldest)\n",
    "    #convert tweets to json from tweepy object\n",
    "    tweets_temp = [result._json for result in results]\n",
    "    tweets.extend(tweets_temp)\n",
    "    oldest = tweets_temp[-1]['id']-1\n",
    "    print(f\"{len(tweets_temp)} tweets fetched\")\n",
    "    print(40*\"#\")\n",
    "    "
   ]
  },
  {
   "cell_type": "code",
   "execution_count": 84,
   "metadata": {
    "ExecuteTime": {
     "end_time": "2022-03-03T07:45:17.021216Z",
     "start_time": "2022-03-03T07:45:17.017793Z"
    }
   },
   "outputs": [
    {
     "data": {
      "text/plain": [
       "400"
      ]
     },
     "execution_count": 84,
     "metadata": {},
     "output_type": "execute_result"
    }
   ],
   "source": [
    "len(tweets)"
   ]
  },
  {
   "cell_type": "code",
   "execution_count": 11,
   "metadata": {
    "ExecuteTime": {
     "end_time": "2022-03-03T07:49:40.349514Z",
     "start_time": "2022-03-03T07:49:40.341608Z"
    }
   },
   "outputs": [
    {
     "data": {
      "text/plain": [
       "'Hellenic 🇬🇷 Spar✝️an'"
      ]
     },
     "execution_count": 11,
     "metadata": {},
     "output_type": "execute_result"
    }
   ],
   "source": [
    "tweets[0]['user']['name']#.keys()"
   ]
  },
  {
   "cell_type": "code",
   "execution_count": 12,
   "metadata": {
    "ExecuteTime": {
     "end_time": "2022-03-03T07:50:30.978458Z",
     "start_time": "2022-03-03T07:50:30.975059Z"
    },
    "colab": {
     "base_uri": "https://localhost:8080/"
    },
    "executionInfo": {
     "elapsed": 686,
     "status": "ok",
     "timestamp": 1610580875575,
     "user": {
      "displayName": "Ilias Chamatidis",
      "photoUrl": "",
      "userId": "13226088530674863520"
     },
     "user_tz": -120
    },
    "id": "dq2yyG_gMcLz",
    "outputId": "b9c3e340-a1ac-4a75-a205-ff95a6c98c14",
    "scrolled": true
   },
   "outputs": [
    {
     "name": "stdout",
     "output_type": "stream",
     "text": [
      "Hellenic 🇬🇷 Spar✝️an\n",
      "767753891689750528\n",
      "RT @KostasAntLavdas: In new escalation, #Erdogan now accuses #Greece of carrying out a “covert occupation” of Greek islands. It's not a jok…\n",
      "0\n",
      "82\n",
      "##################################################\n",
      "David Mills\n",
      "133907152\n",
      "@drjennings *Some* basis, maybe, but I don't know if it did, really. The Tories didn't have a majority and relied on the Lib Dems, who conveniently underwent a conversion re the UK turning into Greece. Their deficit reduction plans pre-election were similar to Labour's.\n",
      "0\n",
      "0\n",
      "##################################################\n",
      "ΕΘΝΟΣ\n",
      "1851378294\n",
      "Ευχάριστα νέα για το βρέφος που κακοποιήθηκε από τον πατέρα του στη Μεσσηνία: Το αποσωλήνωσαν οι γιατροί https://t.co/1vGmO5bsPR https://t.co/5fHIInuSZZ\n",
      "0\n",
      "0\n",
      "##################################################\n",
      "Stavroula\n",
      "2975023547\n",
      "RT @earthcurated: Santorini, Greece ✨ https://t.co/ngliUMh5IS\n",
      "0\n",
      "272\n",
      "##################################################\n",
      "Omar Elmenofy\n",
      "306981267\n",
      "I'm at Grandma's House in Alexandreia, Greece https://t.co/I8z6R8G07o\n",
      "0\n",
      "0\n",
      "##################################################\n"
     ]
    }
   ],
   "source": [
    "for tweet in tweets[:5]:\n",
    "    print(tweet['user']['name'])\n",
    "    print(tweet['user']['id'])\n",
    "    print(tweet['full_text'])\n",
    "    print(tweet['favorite_count'])\n",
    "    print(tweet['retweet_count'])\n",
    "    print(50*'#')"
   ]
  },
  {
   "cell_type": "markdown",
   "metadata": {},
   "source": [
    "# Get the  tweets from Cristiano Ronaldo"
   ]
  },
  {
   "cell_type": "code",
   "execution_count": 27,
   "metadata": {
    "ExecuteTime": {
     "end_time": "2021-10-14T13:34:49.942034Z",
     "start_time": "2021-10-14T13:34:37.565075Z"
    }
   },
   "outputs": [
    {
     "name": "stdout",
     "output_type": "stream",
     "text": [
      "N of tweets downloaded till now 399\n",
      "N of tweets downloaded till now 599\n",
      "N of tweets downloaded till now 799\n",
      "N of tweets downloaded till now 999\n",
      "N of tweets downloaded till now 1199\n",
      "N of tweets downloaded till now 1399\n",
      "N of tweets downloaded till now 1594\n",
      "N of tweets downloaded till now 1770\n",
      "N of tweets downloaded till now 1961\n",
      "N of tweets downloaded till now 2139\n",
      "N of tweets downloaded till now 2335\n",
      "N of tweets downloaded till now 2481\n",
      "N of tweets downloaded till now 2611\n",
      "N of tweets downloaded till now 2778\n",
      "N of tweets downloaded till now 2950\n",
      "N of tweets downloaded till now 3004\n"
     ]
    }
   ],
   "source": [
    "name = 'Cristiano'\n",
    "\n",
    "tweets = api.user_timeline(screen_name=name, \n",
    "                           # 200 is the maximum allowed count\n",
    "                           count=200,\n",
    "                           include_rts = False,\n",
    "                           # Necessary to keep full_text \n",
    "                           # otherwise only the first 140 words are extracted\n",
    "                           tweet_mode = 'extended'\n",
    "                           )\n",
    "\n",
    "all_tweets = []\n",
    "all_tweets.extend(tweets)\n",
    "oldest_id = tweets[-1].id -1\n",
    "\n",
    "while True:\n",
    "    tweets = api.user_timeline(screen_name=name, \n",
    "                           # 200 is the maximum allowed count\n",
    "                           count=200,\n",
    "                           include_rts = False,\n",
    "                           max_id = oldest_id - 1,\n",
    "                           # Necessary to keep full_text \n",
    "                           # otherwise only the first 140 words are extracted\n",
    "                           tweet_mode = 'extended'\n",
    "                           )\n",
    "    if len(tweets) == 0:\n",
    "        break\n",
    "\n",
    "    oldest_id = tweets[-1].id -1\n",
    "    all_tweets.extend(tweets)\n",
    "    print('N of tweets downloaded till now {}'.format(len(all_tweets)))"
   ]
  },
  {
   "cell_type": "code",
   "execution_count": 28,
   "metadata": {},
   "outputs": [
    {
     "data": {
      "text/plain": [
       "Status(_api=<tweepy.api.API object at 0x7fd7721c9070>, _json={'created_at': 'Sat Sep 24 21:38:35 +0000 2022', 'id': 1573789016247468034, 'id_str': '1573789016247468034', 'full_text': 'Grande jogo, importante vitória equipa!Continuamos focados no nosso objetivo 🙏🏽💪🏽\\nObrigado ao público português pelo apoio fantástico.👏🏽🇵🇹❤️ https://t.co/JRuyUTxOee', 'truncated': False, 'display_text_range': [0, 140], 'entities': {'hashtags': [], 'symbols': [], 'user_mentions': [], 'urls': [], 'media': [{'id': 1573789007787528193, 'id_str': '1573789007787528193', 'indices': [141, 164], 'media_url': 'http://pbs.twimg.com/media/Fdc4w6iXEAEGRQU.jpg', 'media_url_https': 'https://pbs.twimg.com/media/Fdc4w6iXEAEGRQU.jpg', 'url': 'https://t.co/JRuyUTxOee', 'display_url': 'pic.twitter.com/JRuyUTxOee', 'expanded_url': 'https://twitter.com/Cristiano/status/1573789016247468034/photo/1', 'type': 'photo', 'sizes': {'thumb': {'w': 150, 'h': 150, 'resize': 'crop'}, 'medium': {'w': 1200, 'h': 799, 'resize': 'fit'}, 'small': {'w': 680, 'h': 453, 'resize': 'fit'}, 'large': {'w': 2048, 'h': 1364, 'resize': 'fit'}}}]}, 'extended_entities': {'media': [{'id': 1573789007787528193, 'id_str': '1573789007787528193', 'indices': [141, 164], 'media_url': 'http://pbs.twimg.com/media/Fdc4w6iXEAEGRQU.jpg', 'media_url_https': 'https://pbs.twimg.com/media/Fdc4w6iXEAEGRQU.jpg', 'url': 'https://t.co/JRuyUTxOee', 'display_url': 'pic.twitter.com/JRuyUTxOee', 'expanded_url': 'https://twitter.com/Cristiano/status/1573789016247468034/photo/1', 'type': 'photo', 'sizes': {'thumb': {'w': 150, 'h': 150, 'resize': 'crop'}, 'medium': {'w': 1200, 'h': 799, 'resize': 'fit'}, 'small': {'w': 680, 'h': 453, 'resize': 'fit'}, 'large': {'w': 2048, 'h': 1364, 'resize': 'fit'}}}]}, 'source': '<a href=\"http://twitter.com/download/iphone\" rel=\"nofollow\">Twitter for iPhone</a>', 'in_reply_to_status_id': None, 'in_reply_to_status_id_str': None, 'in_reply_to_user_id': None, 'in_reply_to_user_id_str': None, 'in_reply_to_screen_name': None, 'user': {'id': 155659213, 'id_str': '155659213', 'name': 'Cristiano Ronaldo', 'screen_name': 'Cristiano', 'location': '', 'description': 'This Privacy Policy addresses the collection and use of personal information - https://t.co/N9W2J34YdA', 'url': 'https://t.co/JlMkKHxKo1', 'entities': {'url': {'urls': [{'url': 'https://t.co/JlMkKHxKo1', 'expanded_url': 'http://www.facebook.com/cristiano', 'display_url': 'facebook.com/cristiano', 'indices': [0, 23]}]}, 'description': {'urls': [{'url': 'https://t.co/N9W2J34YdA', 'expanded_url': 'http://www.cristianoronaldo.com/terms', 'display_url': 'cristianoronaldo.com/terms', 'indices': [79, 102]}]}}, 'protected': False, 'followers_count': 103716618, 'friends_count': 62, 'listed_count': 85096, 'created_at': 'Mon Jun 14 19:09:20 +0000 2010', 'favourites_count': 4, 'utc_offset': None, 'time_zone': None, 'geo_enabled': True, 'verified': True, 'statuses_count': 3819, 'lang': None, 'contributors_enabled': False, 'is_translator': False, 'is_translation_enabled': True, 'profile_background_color': '080101', 'profile_background_image_url': 'http://abs.twimg.com/images/themes/theme1/bg.png', 'profile_background_image_url_https': 'https://abs.twimg.com/images/themes/theme1/bg.png', 'profile_background_tile': False, 'profile_image_url': 'http://pbs.twimg.com/profile_images/1157313327867092993/a09TxL_1_normal.jpg', 'profile_image_url_https': 'https://pbs.twimg.com/profile_images/1157313327867092993/a09TxL_1_normal.jpg', 'profile_banner_url': 'https://pbs.twimg.com/profile_banners/155659213/1564759975', 'profile_link_color': '1643C9', 'profile_sidebar_border_color': 'FFFFFF', 'profile_sidebar_fill_color': '838387', 'profile_text_color': '0D0D0D', 'profile_use_background_image': True, 'has_extended_profile': False, 'default_profile': False, 'default_profile_image': False, 'following': None, 'follow_request_sent': None, 'notifications': None, 'translator_type': 'regular', 'withheld_in_countries': []}, 'geo': None, 'coordinates': None, 'place': None, 'contributors': None, 'is_quote_status': False, 'retweet_count': 10442, 'favorite_count': 174581, 'favorited': False, 'retweeted': False, 'possibly_sensitive': False, 'lang': 'pt'}, created_at=datetime.datetime(2022, 9, 24, 21, 38, 35, tzinfo=datetime.timezone.utc), id=1573789016247468034, id_str='1573789016247468034', full_text='Grande jogo, importante vitória equipa!Continuamos focados no nosso objetivo 🙏🏽💪🏽\\nObrigado ao público português pelo apoio fantástico.👏🏽🇵🇹❤️ https://t.co/JRuyUTxOee', truncated=False, display_text_range=[0, 140], entities={'hashtags': [], 'symbols': [], 'user_mentions': [], 'urls': [], 'media': [{'id': 1573789007787528193, 'id_str': '1573789007787528193', 'indices': [141, 164], 'media_url': 'http://pbs.twimg.com/media/Fdc4w6iXEAEGRQU.jpg', 'media_url_https': 'https://pbs.twimg.com/media/Fdc4w6iXEAEGRQU.jpg', 'url': 'https://t.co/JRuyUTxOee', 'display_url': 'pic.twitter.com/JRuyUTxOee', 'expanded_url': 'https://twitter.com/Cristiano/status/1573789016247468034/photo/1', 'type': 'photo', 'sizes': {'thumb': {'w': 150, 'h': 150, 'resize': 'crop'}, 'medium': {'w': 1200, 'h': 799, 'resize': 'fit'}, 'small': {'w': 680, 'h': 453, 'resize': 'fit'}, 'large': {'w': 2048, 'h': 1364, 'resize': 'fit'}}}]}, extended_entities={'media': [{'id': 1573789007787528193, 'id_str': '1573789007787528193', 'indices': [141, 164], 'media_url': 'http://pbs.twimg.com/media/Fdc4w6iXEAEGRQU.jpg', 'media_url_https': 'https://pbs.twimg.com/media/Fdc4w6iXEAEGRQU.jpg', 'url': 'https://t.co/JRuyUTxOee', 'display_url': 'pic.twitter.com/JRuyUTxOee', 'expanded_url': 'https://twitter.com/Cristiano/status/1573789016247468034/photo/1', 'type': 'photo', 'sizes': {'thumb': {'w': 150, 'h': 150, 'resize': 'crop'}, 'medium': {'w': 1200, 'h': 799, 'resize': 'fit'}, 'small': {'w': 680, 'h': 453, 'resize': 'fit'}, 'large': {'w': 2048, 'h': 1364, 'resize': 'fit'}}}]}, source='Twitter for iPhone', source_url='http://twitter.com/download/iphone', in_reply_to_status_id=None, in_reply_to_status_id_str=None, in_reply_to_user_id=None, in_reply_to_user_id_str=None, in_reply_to_screen_name=None, author=User(_api=<tweepy.api.API object at 0x7fd7721c9070>, _json={'id': 155659213, 'id_str': '155659213', 'name': 'Cristiano Ronaldo', 'screen_name': 'Cristiano', 'location': '', 'description': 'This Privacy Policy addresses the collection and use of personal information - https://t.co/N9W2J34YdA', 'url': 'https://t.co/JlMkKHxKo1', 'entities': {'url': {'urls': [{'url': 'https://t.co/JlMkKHxKo1', 'expanded_url': 'http://www.facebook.com/cristiano', 'display_url': 'facebook.com/cristiano', 'indices': [0, 23]}]}, 'description': {'urls': [{'url': 'https://t.co/N9W2J34YdA', 'expanded_url': 'http://www.cristianoronaldo.com/terms', 'display_url': 'cristianoronaldo.com/terms', 'indices': [79, 102]}]}}, 'protected': False, 'followers_count': 103716618, 'friends_count': 62, 'listed_count': 85096, 'created_at': 'Mon Jun 14 19:09:20 +0000 2010', 'favourites_count': 4, 'utc_offset': None, 'time_zone': None, 'geo_enabled': True, 'verified': True, 'statuses_count': 3819, 'lang': None, 'contributors_enabled': False, 'is_translator': False, 'is_translation_enabled': True, 'profile_background_color': '080101', 'profile_background_image_url': 'http://abs.twimg.com/images/themes/theme1/bg.png', 'profile_background_image_url_https': 'https://abs.twimg.com/images/themes/theme1/bg.png', 'profile_background_tile': False, 'profile_image_url': 'http://pbs.twimg.com/profile_images/1157313327867092993/a09TxL_1_normal.jpg', 'profile_image_url_https': 'https://pbs.twimg.com/profile_images/1157313327867092993/a09TxL_1_normal.jpg', 'profile_banner_url': 'https://pbs.twimg.com/profile_banners/155659213/1564759975', 'profile_link_color': '1643C9', 'profile_sidebar_border_color': 'FFFFFF', 'profile_sidebar_fill_color': '838387', 'profile_text_color': '0D0D0D', 'profile_use_background_image': True, 'has_extended_profile': False, 'default_profile': False, 'default_profile_image': False, 'following': None, 'follow_request_sent': None, 'notifications': None, 'translator_type': 'regular', 'withheld_in_countries': []}, id=155659213, id_str='155659213', name='Cristiano Ronaldo', screen_name='Cristiano', location='', description='This Privacy Policy addresses the collection and use of personal information - https://t.co/N9W2J34YdA', url='https://t.co/JlMkKHxKo1', entities={'url': {'urls': [{'url': 'https://t.co/JlMkKHxKo1', 'expanded_url': 'http://www.facebook.com/cristiano', 'display_url': 'facebook.com/cristiano', 'indices': [0, 23]}]}, 'description': {'urls': [{'url': 'https://t.co/N9W2J34YdA', 'expanded_url': 'http://www.cristianoronaldo.com/terms', 'display_url': 'cristianoronaldo.com/terms', 'indices': [79, 102]}]}}, protected=False, followers_count=103716618, friends_count=62, listed_count=85096, created_at=datetime.datetime(2010, 6, 14, 19, 9, 20, tzinfo=datetime.timezone.utc), favourites_count=4, utc_offset=None, time_zone=None, geo_enabled=True, verified=True, statuses_count=3819, lang=None, contributors_enabled=False, is_translator=False, is_translation_enabled=True, profile_background_color='080101', profile_background_image_url='http://abs.twimg.com/images/themes/theme1/bg.png', profile_background_image_url_https='https://abs.twimg.com/images/themes/theme1/bg.png', profile_background_tile=False, profile_image_url='http://pbs.twimg.com/profile_images/1157313327867092993/a09TxL_1_normal.jpg', profile_image_url_https='https://pbs.twimg.com/profile_images/1157313327867092993/a09TxL_1_normal.jpg', profile_banner_url='https://pbs.twimg.com/profile_banners/155659213/1564759975', profile_link_color='1643C9', profile_sidebar_border_color='FFFFFF', profile_sidebar_fill_color='838387', profile_text_color='0D0D0D', profile_use_background_image=True, has_extended_profile=False, default_profile=False, default_profile_image=False, following=False, follow_request_sent=None, notifications=None, translator_type='regular', withheld_in_countries=[]), user=User(_api=<tweepy.api.API object at 0x7fd7721c9070>, _json={'id': 155659213, 'id_str': '155659213', 'name': 'Cristiano Ronaldo', 'screen_name': 'Cristiano', 'location': '', 'description': 'This Privacy Policy addresses the collection and use of personal information - https://t.co/N9W2J34YdA', 'url': 'https://t.co/JlMkKHxKo1', 'entities': {'url': {'urls': [{'url': 'https://t.co/JlMkKHxKo1', 'expanded_url': 'http://www.facebook.com/cristiano', 'display_url': 'facebook.com/cristiano', 'indices': [0, 23]}]}, 'description': {'urls': [{'url': 'https://t.co/N9W2J34YdA', 'expanded_url': 'http://www.cristianoronaldo.com/terms', 'display_url': 'cristianoronaldo.com/terms', 'indices': [79, 102]}]}}, 'protected': False, 'followers_count': 103716618, 'friends_count': 62, 'listed_count': 85096, 'created_at': 'Mon Jun 14 19:09:20 +0000 2010', 'favourites_count': 4, 'utc_offset': None, 'time_zone': None, 'geo_enabled': True, 'verified': True, 'statuses_count': 3819, 'lang': None, 'contributors_enabled': False, 'is_translator': False, 'is_translation_enabled': True, 'profile_background_color': '080101', 'profile_background_image_url': 'http://abs.twimg.com/images/themes/theme1/bg.png', 'profile_background_image_url_https': 'https://abs.twimg.com/images/themes/theme1/bg.png', 'profile_background_tile': False, 'profile_image_url': 'http://pbs.twimg.com/profile_images/1157313327867092993/a09TxL_1_normal.jpg', 'profile_image_url_https': 'https://pbs.twimg.com/profile_images/1157313327867092993/a09TxL_1_normal.jpg', 'profile_banner_url': 'https://pbs.twimg.com/profile_banners/155659213/1564759975', 'profile_link_color': '1643C9', 'profile_sidebar_border_color': 'FFFFFF', 'profile_sidebar_fill_color': '838387', 'profile_text_color': '0D0D0D', 'profile_use_background_image': True, 'has_extended_profile': False, 'default_profile': False, 'default_profile_image': False, 'following': None, 'follow_request_sent': None, 'notifications': None, 'translator_type': 'regular', 'withheld_in_countries': []}, id=155659213, id_str='155659213', name='Cristiano Ronaldo', screen_name='Cristiano', location='', description='This Privacy Policy addresses the collection and use of personal information - https://t.co/N9W2J34YdA', url='https://t.co/JlMkKHxKo1', entities={'url': {'urls': [{'url': 'https://t.co/JlMkKHxKo1', 'expanded_url': 'http://www.facebook.com/cristiano', 'display_url': 'facebook.com/cristiano', 'indices': [0, 23]}]}, 'description': {'urls': [{'url': 'https://t.co/N9W2J34YdA', 'expanded_url': 'http://www.cristianoronaldo.com/terms', 'display_url': 'cristianoronaldo.com/terms', 'indices': [79, 102]}]}}, protected=False, followers_count=103716618, friends_count=62, listed_count=85096, created_at=datetime.datetime(2010, 6, 14, 19, 9, 20, tzinfo=datetime.timezone.utc), favourites_count=4, utc_offset=None, time_zone=None, geo_enabled=True, verified=True, statuses_count=3819, lang=None, contributors_enabled=False, is_translator=False, is_translation_enabled=True, profile_background_color='080101', profile_background_image_url='http://abs.twimg.com/images/themes/theme1/bg.png', profile_background_image_url_https='https://abs.twimg.com/images/themes/theme1/bg.png', profile_background_tile=False, profile_image_url='http://pbs.twimg.com/profile_images/1157313327867092993/a09TxL_1_normal.jpg', profile_image_url_https='https://pbs.twimg.com/profile_images/1157313327867092993/a09TxL_1_normal.jpg', profile_banner_url='https://pbs.twimg.com/profile_banners/155659213/1564759975', profile_link_color='1643C9', profile_sidebar_border_color='FFFFFF', profile_sidebar_fill_color='838387', profile_text_color='0D0D0D', profile_use_background_image=True, has_extended_profile=False, default_profile=False, default_profile_image=False, following=False, follow_request_sent=None, notifications=None, translator_type='regular', withheld_in_countries=[]), geo=None, coordinates=None, place=None, contributors=None, is_quote_status=False, retweet_count=10442, favorite_count=174581, favorited=False, retweeted=False, possibly_sensitive=False, lang='pt')"
      ]
     },
     "execution_count": 28,
     "metadata": {},
     "output_type": "execute_result"
    }
   ],
   "source": [
    "all_tweets[0]"
   ]
  },
  {
   "cell_type": "markdown",
   "metadata": {
    "id": "RssAjDRWD8q1"
   },
   "source": [
    "## From the tweets extract: \n",
    "* id\n",
    "* text\n",
    "* Likes\n",
    "* Retweets\n",
    "* Followers\n",
    "* Following\n",
    "* Friends(Mutual follows)\n",
    "\n",
    "Create a dataframe to save them"
   ]
  },
  {
   "cell_type": "code",
   "execution_count": 30,
   "metadata": {
    "ExecuteTime": {
     "end_time": "2021-02-14T23:44:53.617485Z",
     "start_time": "2021-02-14T23:44:53.587300Z"
    },
    "executionInfo": {
     "elapsed": 662,
     "status": "ok",
     "timestamp": 1610583293214,
     "user": {
      "displayName": "Ilias Chamatidis",
      "photoUrl": "",
      "userId": "13226088530674863520"
     },
     "user_tz": -120
    },
    "id": "PEPb4XoxS7Af"
   },
   "outputs": [],
   "source": [
    "id_ = []\n",
    "text = []\n",
    "favorite_count = []\n",
    "retweet_count = []\n",
    "followers_count = []\n",
    "following = []\n",
    "friends_count = []\n",
    "user = []\n",
    "entities = []\n",
    "created_at = []\n",
    "\n",
    "for tweet in all_tweets:\n",
    "    tweet = tweet._json\n",
    "    id_.append(tweet['id'])\n",
    "    user.append(tweet['user']['name'])\n",
    "    try:\n",
    "        text.append(tweet['full_text'])\n",
    "    except:\n",
    "        text.append(tweet['text'])\n",
    "    favorite_count.append(tweet['favorite_count'])\n",
    "    retweet_count.append(tweet['retweet_count'])\n",
    "    followers_count.append(tweet['user']['followers_count'])\n",
    "    following.append(tweet['user']['following'])\n",
    "    friends_count.append(tweet['user']['friends_count'])\n",
    "    entities.append(tweet['entities']['hashtags'])\n",
    "    created_at.append(tweet['created_at'])\n"
   ]
  },
  {
   "cell_type": "code",
   "execution_count": 31,
   "metadata": {},
   "outputs": [
    {
     "data": {
      "text/plain": [
       "3004"
      ]
     },
     "execution_count": 31,
     "metadata": {},
     "output_type": "execute_result"
    }
   ],
   "source": [
    "len(id_)"
   ]
  },
  {
   "cell_type": "code",
   "execution_count": 32,
   "metadata": {
    "ExecuteTime": {
     "end_time": "2021-02-14T23:44:53.687994Z",
     "start_time": "2021-02-14T23:44:53.622058Z"
    },
    "colab": {
     "base_uri": "https://localhost:8080/",
     "height": 424
    },
    "executionInfo": {
     "elapsed": 697,
     "status": "ok",
     "timestamp": 1610583294223,
     "user": {
      "displayName": "Ilias Chamatidis",
      "photoUrl": "",
      "userId": "13226088530674863520"
     },
     "user_tz": -120
    },
    "id": "ysQnawhtNP9H",
    "outputId": "ef5129f9-24a3-42d9-fbfd-4544f56cc9e2"
   },
   "outputs": [
    {
     "data": {
      "text/html": [
       "<div>\n",
       "<style scoped>\n",
       "    .dataframe tbody tr th:only-of-type {\n",
       "        vertical-align: middle;\n",
       "    }\n",
       "\n",
       "    .dataframe tbody tr th {\n",
       "        vertical-align: top;\n",
       "    }\n",
       "\n",
       "    .dataframe thead th {\n",
       "        text-align: right;\n",
       "    }\n",
       "</style>\n",
       "<table border=\"1\" class=\"dataframe\">\n",
       "  <thead>\n",
       "    <tr style=\"text-align: right;\">\n",
       "      <th></th>\n",
       "      <th>id</th>\n",
       "      <th>created_at</th>\n",
       "      <th>user</th>\n",
       "      <th>text</th>\n",
       "      <th>favorite_count</th>\n",
       "      <th>retweet_count</th>\n",
       "      <th>followers_count</th>\n",
       "      <th>following_count</th>\n",
       "      <th>friends_count</th>\n",
       "      <th>hashtags</th>\n",
       "    </tr>\n",
       "  </thead>\n",
       "  <tbody>\n",
       "    <tr>\n",
       "      <th>0</th>\n",
       "      <td>1573789016247468034</td>\n",
       "      <td>Sat Sep 24 21:38:35 +0000 2022</td>\n",
       "      <td>Cristiano Ronaldo</td>\n",
       "      <td>Grande jogo, importante vitória equipa!Continu...</td>\n",
       "      <td>174581</td>\n",
       "      <td>10442</td>\n",
       "      <td>103716618</td>\n",
       "      <td>None</td>\n",
       "      <td>62</td>\n",
       "      <td>[]</td>\n",
       "    </tr>\n",
       "    <tr>\n",
       "      <th>1</th>\n",
       "      <td>1573220875222097923</td>\n",
       "      <td>Fri Sep 23 08:01:00 +0000 2022</td>\n",
       "      <td>Cristiano Ronaldo</td>\n",
       "      <td>From my first match to now, there’s no feeling...</td>\n",
       "      <td>64216</td>\n",
       "      <td>4291</td>\n",
       "      <td>103716618</td>\n",
       "      <td>None</td>\n",
       "      <td>62</td>\n",
       "      <td>[]</td>\n",
       "    </tr>\n",
       "    <tr>\n",
       "      <th>2</th>\n",
       "      <td>1572618993495838721</td>\n",
       "      <td>Wed Sep 21 16:09:20 +0000 2022</td>\n",
       "      <td>Cristiano Ronaldo</td>\n",
       "      <td>Feliz por estar de volta a casa! 😀🇵🇹🙏🏽 https:/...</td>\n",
       "      <td>285068</td>\n",
       "      <td>14204</td>\n",
       "      <td>103716618</td>\n",
       "      <td>None</td>\n",
       "      <td>62</td>\n",
       "      <td>[]</td>\n",
       "    </tr>\n",
       "    <tr>\n",
       "      <th>3</th>\n",
       "      <td>1570498600828039169</td>\n",
       "      <td>Thu Sep 15 19:43:39 +0000 2022</td>\n",
       "      <td>Cristiano Ronaldo</td>\n",
       "      <td>Happy to score and help the team win! 3 import...</td>\n",
       "      <td>323466</td>\n",
       "      <td>19031</td>\n",
       "      <td>103716618</td>\n",
       "      <td>None</td>\n",
       "      <td>62</td>\n",
       "      <td>[]</td>\n",
       "    </tr>\n",
       "    <tr>\n",
       "      <th>4</th>\n",
       "      <td>1566808585920778248</td>\n",
       "      <td>Mon Sep 05 15:20:51 +0000 2022</td>\n",
       "      <td>Cristiano Ronaldo</td>\n",
       "      <td>It's always good to be with you! 👏🏽 #alwaystog...</td>\n",
       "      <td>364473</td>\n",
       "      <td>18232</td>\n",
       "      <td>103716618</td>\n",
       "      <td>None</td>\n",
       "      <td>62</td>\n",
       "      <td>[{'text': 'alwaystogether', 'indices': [36, 51]}]</td>\n",
       "    </tr>\n",
       "    <tr>\n",
       "      <th>...</th>\n",
       "      <td>...</td>\n",
       "      <td>...</td>\n",
       "      <td>...</td>\n",
       "      <td>...</td>\n",
       "      <td>...</td>\n",
       "      <td>...</td>\n",
       "      <td>...</td>\n",
       "      <td>...</td>\n",
       "      <td>...</td>\n",
       "      <td>...</td>\n",
       "    </tr>\n",
       "    <tr>\n",
       "      <th>2999</th>\n",
       "      <td>78900858888261632</td>\n",
       "      <td>Thu Jun 09 19:06:45 +0000 2011</td>\n",
       "      <td>Cristiano Ronaldo</td>\n",
       "      <td>I played tennis today with friends. It's fun t...</td>\n",
       "      <td>293</td>\n",
       "      <td>586</td>\n",
       "      <td>103716621</td>\n",
       "      <td>None</td>\n",
       "      <td>62</td>\n",
       "      <td>[]</td>\n",
       "    </tr>\n",
       "    <tr>\n",
       "      <th>3000</th>\n",
       "      <td>78747751504023552</td>\n",
       "      <td>Thu Jun 09 08:58:21 +0000 2011</td>\n",
       "      <td>Cristiano Ronaldo</td>\n",
       "      <td>Here are some photos from the last game of the...</td>\n",
       "      <td>179</td>\n",
       "      <td>343</td>\n",
       "      <td>103716621</td>\n",
       "      <td>None</td>\n",
       "      <td>62</td>\n",
       "      <td>[]</td>\n",
       "    </tr>\n",
       "    <tr>\n",
       "      <th>3001</th>\n",
       "      <td>78023407605792768</td>\n",
       "      <td>Tue Jun 07 09:00:04 +0000 2011</td>\n",
       "      <td>Cristiano Ronaldo</td>\n",
       "      <td>Check out this cool @NikeFootball video- it's ...</td>\n",
       "      <td>235</td>\n",
       "      <td>455</td>\n",
       "      <td>103716621</td>\n",
       "      <td>None</td>\n",
       "      <td>62</td>\n",
       "      <td>[]</td>\n",
       "    </tr>\n",
       "    <tr>\n",
       "      <th>3002</th>\n",
       "      <td>77171147648675840</td>\n",
       "      <td>Sun Jun 05 00:33:30 +0000 2011</td>\n",
       "      <td>Cristiano Ronaldo</td>\n",
       "      <td>Portugal 1 - Norway 0. Difficult game but we g...</td>\n",
       "      <td>335</td>\n",
       "      <td>685</td>\n",
       "      <td>103716621</td>\n",
       "      <td>None</td>\n",
       "      <td>62</td>\n",
       "      <td>[]</td>\n",
       "    </tr>\n",
       "    <tr>\n",
       "      <th>3003</th>\n",
       "      <td>76305413930369024</td>\n",
       "      <td>Thu Jun 02 15:13:23 +0000 2011</td>\n",
       "      <td>Cristiano Ronaldo</td>\n",
       "      <td>All set for #PortugalvsNorway. Enjoy these pho...</td>\n",
       "      <td>244</td>\n",
       "      <td>373</td>\n",
       "      <td>103716621</td>\n",
       "      <td>None</td>\n",
       "      <td>62</td>\n",
       "      <td>[{'text': 'PortugalvsNorway', 'indices': [12, ...</td>\n",
       "    </tr>\n",
       "  </tbody>\n",
       "</table>\n",
       "<p>3004 rows × 10 columns</p>\n",
       "</div>"
      ],
      "text/plain": [
       "                       id                      created_at               user  \\\n",
       "0     1573789016247468034  Sat Sep 24 21:38:35 +0000 2022  Cristiano Ronaldo   \n",
       "1     1573220875222097923  Fri Sep 23 08:01:00 +0000 2022  Cristiano Ronaldo   \n",
       "2     1572618993495838721  Wed Sep 21 16:09:20 +0000 2022  Cristiano Ronaldo   \n",
       "3     1570498600828039169  Thu Sep 15 19:43:39 +0000 2022  Cristiano Ronaldo   \n",
       "4     1566808585920778248  Mon Sep 05 15:20:51 +0000 2022  Cristiano Ronaldo   \n",
       "...                   ...                             ...                ...   \n",
       "2999    78900858888261632  Thu Jun 09 19:06:45 +0000 2011  Cristiano Ronaldo   \n",
       "3000    78747751504023552  Thu Jun 09 08:58:21 +0000 2011  Cristiano Ronaldo   \n",
       "3001    78023407605792768  Tue Jun 07 09:00:04 +0000 2011  Cristiano Ronaldo   \n",
       "3002    77171147648675840  Sun Jun 05 00:33:30 +0000 2011  Cristiano Ronaldo   \n",
       "3003    76305413930369024  Thu Jun 02 15:13:23 +0000 2011  Cristiano Ronaldo   \n",
       "\n",
       "                                                   text  favorite_count  \\\n",
       "0     Grande jogo, importante vitória equipa!Continu...          174581   \n",
       "1     From my first match to now, there’s no feeling...           64216   \n",
       "2     Feliz por estar de volta a casa! 😀🇵🇹🙏🏽 https:/...          285068   \n",
       "3     Happy to score and help the team win! 3 import...          323466   \n",
       "4     It's always good to be with you! 👏🏽 #alwaystog...          364473   \n",
       "...                                                 ...             ...   \n",
       "2999  I played tennis today with friends. It's fun t...             293   \n",
       "3000  Here are some photos from the last game of the...             179   \n",
       "3001  Check out this cool @NikeFootball video- it's ...             235   \n",
       "3002  Portugal 1 - Norway 0. Difficult game but we g...             335   \n",
       "3003  All set for #PortugalvsNorway. Enjoy these pho...             244   \n",
       "\n",
       "      retweet_count  followers_count following_count  friends_count  \\\n",
       "0             10442        103716618            None             62   \n",
       "1              4291        103716618            None             62   \n",
       "2             14204        103716618            None             62   \n",
       "3             19031        103716618            None             62   \n",
       "4             18232        103716618            None             62   \n",
       "...             ...              ...             ...            ...   \n",
       "2999            586        103716621            None             62   \n",
       "3000            343        103716621            None             62   \n",
       "3001            455        103716621            None             62   \n",
       "3002            685        103716621            None             62   \n",
       "3003            373        103716621            None             62   \n",
       "\n",
       "                                               hashtags  \n",
       "0                                                    []  \n",
       "1                                                    []  \n",
       "2                                                    []  \n",
       "3                                                    []  \n",
       "4     [{'text': 'alwaystogether', 'indices': [36, 51]}]  \n",
       "...                                                 ...  \n",
       "2999                                                 []  \n",
       "3000                                                 []  \n",
       "3001                                                 []  \n",
       "3002                                                 []  \n",
       "3003  [{'text': 'PortugalvsNorway', 'indices': [12, ...  \n",
       "\n",
       "[3004 rows x 10 columns]"
      ]
     },
     "execution_count": 32,
     "metadata": {},
     "output_type": "execute_result"
    }
   ],
   "source": [
    "d = {\n",
    "    'id': id_,\n",
    "    'created_at': created_at,\n",
    "    'user': user,\n",
    "    'text': text,\n",
    "    'favorite_count': favorite_count,\n",
    "    'retweet_count': retweet_count,\n",
    "    'followers_count': followers_count,\n",
    "    'following_count': following,\n",
    "    'friends_count': friends_count,\n",
    "    'hashtags': entities\n",
    "}\n",
    "data = pd.DataFrame(data=d)\n",
    "data"
   ]
  },
  {
   "cell_type": "markdown",
   "metadata": {
    "id": "9dqJn-ejE8q-"
   },
   "source": [
    "## Assure that you didn't download the same tweet multipe times"
   ]
  },
  {
   "cell_type": "code",
   "execution_count": 33,
   "metadata": {
    "ExecuteTime": {
     "end_time": "2021-02-14T23:44:53.703536Z",
     "start_time": "2021-02-14T23:44:53.691253Z"
    },
    "colab": {
     "base_uri": "https://localhost:8080/"
    },
    "executionInfo": {
     "elapsed": 779,
     "status": "ok",
     "timestamp": 1610583297032,
     "user": {
      "displayName": "Ilias Chamatidis",
      "photoUrl": "",
      "userId": "13226088530674863520"
     },
     "user_tz": -120
    },
    "id": "pfjHramjOFMt",
    "outputId": "b07d906d-8746-417b-e16d-4fde1a57cc8d"
   },
   "outputs": [
    {
     "data": {
      "text/plain": [
       "1573789016247468034    1\n",
       "447477389677719552     1\n",
       "450642783741947904     1\n",
       "450642510634037248     1\n",
       "450634163499302912     1\n",
       "                      ..\n",
       "850254884741840898     1\n",
       "850064812595916801     1\n",
       "849879622338707456     1\n",
       "849178329089495040     1\n",
       "76305413930369024      1\n",
       "Name: id, Length: 3004, dtype: int64"
      ]
     },
     "execution_count": 33,
     "metadata": {},
     "output_type": "execute_result"
    }
   ],
   "source": [
    "data['id'].value_counts()"
   ]
  },
  {
   "cell_type": "markdown",
   "metadata": {
    "id": "VRkpVNDuFJv8"
   },
   "source": [
    "# Plot the Likes of each tweet into a bargraph and the retweets into another bargraph"
   ]
  },
  {
   "cell_type": "code",
   "execution_count": 34,
   "metadata": {
    "ExecuteTime": {
     "end_time": "2021-02-14T23:45:12.639348Z",
     "start_time": "2021-02-14T23:44:53.711988Z"
    },
    "colab": {
     "base_uri": "https://localhost:8080/",
     "height": 1000
    },
    "executionInfo": {
     "elapsed": 1623,
     "status": "ok",
     "timestamp": 1610583395288,
     "user": {
      "displayName": "Ilias Chamatidis",
      "photoUrl": "",
      "userId": "13226088530674863520"
     },
     "user_tz": -120
    },
    "id": "fTn5OiaESFFx",
    "outputId": "b19bad21-907d-4aea-eadd-1979ccb449ca",
    "scrolled": false
   },
   "outputs": [
    {
     "data": {
      "image/png": "[encoded data removed]",
      "text/plain": [
       "<Figure size 1500x1000 with 1 Axes>"
      ]
     },
     "metadata": {},
     "output_type": "display_data"
    },
    {
     "data": {
      "image/png": "[encoded data removed]",
      "text/plain": [
       "<Figure size 1500x1000 with 1 Axes>"
      ]
     },
     "metadata": {},
     "output_type": "display_data"
    },
    {
     "data": {
      "image/png": "[encoded data removed]",
      "text/plain": [
       "<Figure size 1500x1000 with 1 Axes>"
      ]
     },
     "metadata": {},
     "output_type": "display_data"
    }
   ],
   "source": [
    "t = np.arange(data.shape[0])\n",
    "plt.figure(figsize=[15,10])\n",
    "plt.bar(t,data['favorite_count'])\n",
    "plt.xlabel('Tweet')\n",
    "plt.ylabel('Likes')\n",
    "plt.title('Elon Musk\\'s most liked recent tweets')\n",
    "\n",
    "plt.figure(figsize=[15,10])\n",
    "plt.bar(t,data['retweet_count'], color='orange')\n",
    "plt.xlabel('Tweet')\n",
    "plt.ylabel('Retweets')\n",
    "plt.title('Elon Musk\\'s most retweeted recent tweets')\n",
    "\n",
    "plt.figure(figsize=[15,10])\n",
    "plt.plot(t,data['followers_count'], color='green')\n",
    "plt.xlabel('Tweet')\n",
    "plt.ylabel('Followers')\n",
    "plt.title('Elon Musk\\'s follower\\'s per tweer')\n",
    "None"
   ]
  },
  {
   "cell_type": "markdown",
   "metadata": {
    "id": "DyZNB4UOQKtm"
   },
   "source": [
    "The follower counter it is logical to be constant because it is updated daily(every 24 hours to be exact) not in real time."
   ]
  },
  {
   "cell_type": "markdown",
   "metadata": {
    "id": "ebWV1dsEFVE1"
   },
   "source": [
    "## Find the most liked tweet"
   ]
  },
  {
   "cell_type": "code",
   "execution_count": 35,
   "metadata": {
    "ExecuteTime": {
     "end_time": "2021-02-14T23:45:12.671005Z",
     "start_time": "2021-02-14T23:45:12.642564Z"
    }
   },
   "outputs": [
    {
     "data": {
      "text/html": [
       "<div>\n",
       "<style scoped>\n",
       "    .dataframe tbody tr th:only-of-type {\n",
       "        vertical-align: middle;\n",
       "    }\n",
       "\n",
       "    .dataframe tbody tr th {\n",
       "        vertical-align: top;\n",
       "    }\n",
       "\n",
       "    .dataframe thead th {\n",
       "        text-align: right;\n",
       "    }\n",
       "</style>\n",
       "<table border=\"1\" class=\"dataframe\">\n",
       "  <thead>\n",
       "    <tr style=\"text-align: right;\">\n",
       "      <th></th>\n",
       "      <th>id</th>\n",
       "      <th>created_at</th>\n",
       "      <th>user</th>\n",
       "      <th>text</th>\n",
       "      <th>favorite_count</th>\n",
       "      <th>retweet_count</th>\n",
       "      <th>followers_count</th>\n",
       "      <th>following_count</th>\n",
       "      <th>friends_count</th>\n",
       "      <th>hashtags</th>\n",
       "    </tr>\n",
       "  </thead>\n",
       "  <tbody>\n",
       "    <tr>\n",
       "      <th>36</th>\n",
       "      <td>1520339985559347202</td>\n",
       "      <td>Sat Apr 30 09:51:13 +0000 2022</td>\n",
       "      <td>Cristiano Ronaldo</td>\n",
       "      <td>Forever Love…❤️🙏🏽 https://t.co/x18W34rYRM</td>\n",
       "      <td>2031270</td>\n",
       "      <td>87160</td>\n",
       "      <td>103716618</td>\n",
       "      <td>None</td>\n",
       "      <td>62</td>\n",
       "      <td>[]</td>\n",
       "    </tr>\n",
       "    <tr>\n",
       "      <th>39</th>\n",
       "      <td>1516120150533095432</td>\n",
       "      <td>Mon Apr 18 18:23:06 +0000 2022</td>\n",
       "      <td>Cristiano Ronaldo</td>\n",
       "      <td>https://t.co/vRNVCoegOW</td>\n",
       "      <td>1924878</td>\n",
       "      <td>174609</td>\n",
       "      <td>103716618</td>\n",
       "      <td>None</td>\n",
       "      <td>62</td>\n",
       "      <td>[]</td>\n",
       "    </tr>\n",
       "    <tr>\n",
       "      <th>38</th>\n",
       "      <td>1517900888312061952</td>\n",
       "      <td>Sat Apr 23 16:19:07 +0000 2022</td>\n",
       "      <td>Cristiano Ronaldo</td>\n",
       "      <td>❤️ https://t.co/HLg0RbI8SM</td>\n",
       "      <td>1675477</td>\n",
       "      <td>107802</td>\n",
       "      <td>103716618</td>\n",
       "      <td>None</td>\n",
       "      <td>62</td>\n",
       "      <td>[]</td>\n",
       "    </tr>\n",
       "    <tr>\n",
       "      <th>11</th>\n",
       "      <td>1553808180332969985</td>\n",
       "      <td>Sun Jul 31 18:21:53 +0000 2022</td>\n",
       "      <td>Cristiano Ronaldo</td>\n",
       "      <td>Happy to be back 💪🏽🙏🏽 https://t.co/Fp6dpBTXcb</td>\n",
       "      <td>792205</td>\n",
       "      <td>38006</td>\n",
       "      <td>103716618</td>\n",
       "      <td>None</td>\n",
       "      <td>62</td>\n",
       "      <td>[]</td>\n",
       "    </tr>\n",
       "    <tr>\n",
       "      <th>40</th>\n",
       "      <td>1515698113582927874</td>\n",
       "      <td>Sun Apr 17 14:26:05 +0000 2022</td>\n",
       "      <td>Cristiano Ronaldo</td>\n",
       "      <td>30 hat-tricks before 30 and 30 hat-tricks afte...</td>\n",
       "      <td>764396</td>\n",
       "      <td>69372</td>\n",
       "      <td>103716618</td>\n",
       "      <td>None</td>\n",
       "      <td>62</td>\n",
       "      <td>[]</td>\n",
       "    </tr>\n",
       "  </tbody>\n",
       "</table>\n",
       "</div>"
      ],
      "text/plain": [
       "                     id                      created_at               user  \\\n",
       "36  1520339985559347202  Sat Apr 30 09:51:13 +0000 2022  Cristiano Ronaldo   \n",
       "39  1516120150533095432  Mon Apr 18 18:23:06 +0000 2022  Cristiano Ronaldo   \n",
       "38  1517900888312061952  Sat Apr 23 16:19:07 +0000 2022  Cristiano Ronaldo   \n",
       "11  1553808180332969985  Sun Jul 31 18:21:53 +0000 2022  Cristiano Ronaldo   \n",
       "40  1515698113582927874  Sun Apr 17 14:26:05 +0000 2022  Cristiano Ronaldo   \n",
       "\n",
       "                                                 text  favorite_count  \\\n",
       "36          Forever Love…❤️🙏🏽 https://t.co/x18W34rYRM         2031270   \n",
       "39                            https://t.co/vRNVCoegOW         1924878   \n",
       "38                         ❤️ https://t.co/HLg0RbI8SM         1675477   \n",
       "11      Happy to be back 💪🏽🙏🏽 https://t.co/Fp6dpBTXcb          792205   \n",
       "40  30 hat-tricks before 30 and 30 hat-tricks afte...          764396   \n",
       "\n",
       "    retweet_count  followers_count following_count  friends_count hashtags  \n",
       "36          87160        103716618            None             62       []  \n",
       "39         174609        103716618            None             62       []  \n",
       "38         107802        103716618            None             62       []  \n",
       "11          38006        103716618            None             62       []  \n",
       "40          69372        103716618            None             62       []  "
      ]
     },
     "execution_count": 35,
     "metadata": {},
     "output_type": "execute_result"
    }
   ],
   "source": [
    "most_fav = data.sort_values('favorite_count', ascending=False)\n",
    "most_fav.head()"
   ]
  },
  {
   "cell_type": "markdown",
   "metadata": {},
   "source": [
    "## Find the most retweeted tweets"
   ]
  },
  {
   "cell_type": "code",
   "execution_count": 36,
   "metadata": {
    "ExecuteTime": {
     "end_time": "2021-02-14T23:45:12.701739Z",
     "start_time": "2021-02-14T23:45:12.674735Z"
    },
    "colab": {
     "base_uri": "https://localhost:8080/"
    },
    "executionInfo": {
     "elapsed": 768,
     "status": "ok",
     "timestamp": 1610553491346,
     "user": {
      "displayName": "Ilias Chamatidis",
      "photoUrl": "",
      "userId": "13226088530674863520"
     },
     "user_tz": -120
    },
    "id": "W0oyn9pgWSYG",
    "outputId": "a68841e6-af65-4455-c4e8-400ed1564531",
    "scrolled": false
   },
   "outputs": [
    {
     "data": {
      "text/html": [
       "<div>\n",
       "<style scoped>\n",
       "    .dataframe tbody tr th:only-of-type {\n",
       "        vertical-align: middle;\n",
       "    }\n",
       "\n",
       "    .dataframe tbody tr th {\n",
       "        vertical-align: top;\n",
       "    }\n",
       "\n",
       "    .dataframe thead th {\n",
       "        text-align: right;\n",
       "    }\n",
       "</style>\n",
       "<table border=\"1\" class=\"dataframe\">\n",
       "  <thead>\n",
       "    <tr style=\"text-align: right;\">\n",
       "      <th></th>\n",
       "      <th>id</th>\n",
       "      <th>created_at</th>\n",
       "      <th>user</th>\n",
       "      <th>text</th>\n",
       "      <th>favorite_count</th>\n",
       "      <th>retweet_count</th>\n",
       "      <th>followers_count</th>\n",
       "      <th>following_count</th>\n",
       "      <th>friends_count</th>\n",
       "      <th>hashtags</th>\n",
       "    </tr>\n",
       "  </thead>\n",
       "  <tbody>\n",
       "    <tr>\n",
       "      <th>39</th>\n",
       "      <td>1516120150533095432</td>\n",
       "      <td>Mon Apr 18 18:23:06 +0000 2022</td>\n",
       "      <td>Cristiano Ronaldo</td>\n",
       "      <td>https://t.co/vRNVCoegOW</td>\n",
       "      <td>1924878</td>\n",
       "      <td>174609</td>\n",
       "      <td>103716618</td>\n",
       "      <td>None</td>\n",
       "      <td>62</td>\n",
       "      <td>[]</td>\n",
       "    </tr>\n",
       "    <tr>\n",
       "      <th>932</th>\n",
       "      <td>880473340619759616</td>\n",
       "      <td>Thu Jun 29 17:09:37 +0000 2017</td>\n",
       "      <td>Cristiano Ronaldo</td>\n",
       "      <td>So happy to be able to hold the two new loves ...</td>\n",
       "      <td>509100</td>\n",
       "      <td>138077</td>\n",
       "      <td>103716621</td>\n",
       "      <td>None</td>\n",
       "      <td>62</td>\n",
       "      <td>[]</td>\n",
       "    </tr>\n",
       "    <tr>\n",
       "      <th>623</th>\n",
       "      <td>1018927028572172288</td>\n",
       "      <td>Mon Jul 16 18:35:09 +0000 2018</td>\n",
       "      <td>Cristiano Ronaldo</td>\n",
       "      <td>Forza Juve! #FinoAllaFine https://t.co/bBZ5VWdEWX</td>\n",
       "      <td>511854</td>\n",
       "      <td>120995</td>\n",
       "      <td>103716621</td>\n",
       "      <td>None</td>\n",
       "      <td>62</td>\n",
       "      <td>[{'text': 'FinoAllaFine', 'indices': [12, 25]}]</td>\n",
       "    </tr>\n",
       "    <tr>\n",
       "      <th>38</th>\n",
       "      <td>1517900888312061952</td>\n",
       "      <td>Sat Apr 23 16:19:07 +0000 2022</td>\n",
       "      <td>Cristiano Ronaldo</td>\n",
       "      <td>❤️ https://t.co/HLg0RbI8SM</td>\n",
       "      <td>1675477</td>\n",
       "      <td>107802</td>\n",
       "      <td>103716618</td>\n",
       "      <td>None</td>\n",
       "      <td>62</td>\n",
       "      <td>[]</td>\n",
       "    </tr>\n",
       "    <tr>\n",
       "      <th>851</th>\n",
       "      <td>912028229011169281</td>\n",
       "      <td>Sun Sep 24 18:57:29 +0000 2017</td>\n",
       "      <td>Cristiano Ronaldo</td>\n",
       "      <td>En este momento de dolor, envío a la familia d...</td>\n",
       "      <td>307623</td>\n",
       "      <td>107126</td>\n",
       "      <td>103716621</td>\n",
       "      <td>None</td>\n",
       "      <td>62</td>\n",
       "      <td>[]</td>\n",
       "    </tr>\n",
       "  </tbody>\n",
       "</table>\n",
       "</div>"
      ],
      "text/plain": [
       "                      id                      created_at               user  \\\n",
       "39   1516120150533095432  Mon Apr 18 18:23:06 +0000 2022  Cristiano Ronaldo   \n",
       "932   880473340619759616  Thu Jun 29 17:09:37 +0000 2017  Cristiano Ronaldo   \n",
       "623  1018927028572172288  Mon Jul 16 18:35:09 +0000 2018  Cristiano Ronaldo   \n",
       "38   1517900888312061952  Sat Apr 23 16:19:07 +0000 2022  Cristiano Ronaldo   \n",
       "851   912028229011169281  Sun Sep 24 18:57:29 +0000 2017  Cristiano Ronaldo   \n",
       "\n",
       "                                                  text  favorite_count  \\\n",
       "39                             https://t.co/vRNVCoegOW         1924878   \n",
       "932  So happy to be able to hold the two new loves ...          509100   \n",
       "623  Forza Juve! #FinoAllaFine https://t.co/bBZ5VWdEWX          511854   \n",
       "38                          ❤️ https://t.co/HLg0RbI8SM         1675477   \n",
       "851  En este momento de dolor, envío a la familia d...          307623   \n",
       "\n",
       "     retweet_count  followers_count following_count  friends_count  \\\n",
       "39          174609        103716618            None             62   \n",
       "932         138077        103716621            None             62   \n",
       "623         120995        103716621            None             62   \n",
       "38          107802        103716618            None             62   \n",
       "851         107126        103716621            None             62   \n",
       "\n",
       "                                            hashtags  \n",
       "39                                                []  \n",
       "932                                               []  \n",
       "623  [{'text': 'FinoAllaFine', 'indices': [12, 25]}]  \n",
       "38                                                []  \n",
       "851                                               []  "
      ]
     },
     "execution_count": 36,
     "metadata": {},
     "output_type": "execute_result"
    }
   ],
   "source": [
    "max_ret = data.sort_values('retweet_count', ascending=False)\n",
    "max_ret.head()"
   ]
  },
  {
   "cell_type": "markdown",
   "metadata": {},
   "source": [
    "# Get the most recent tweets from Elon Musk"
   ]
  },
  {
   "cell_type": "code",
   "execution_count": null,
   "metadata": {},
   "outputs": [],
   "source": [
    "def get_all_tweets(screen_name):\n",
    "    #Twitter only allows access to a users most recent 3240 tweets with this method\n",
    "    #initialize a list to hold all the tweepy Tweets\n",
    "    alltweets = []\n",
    "\n",
    "    #make initial request for most recent tweets (200 is the maximum allowed count)\n",
    "    new_tweets = api.user_timeline(screen_name=screen_name, count=200, tweet_mode='extended')\n",
    "\n",
    "    #save most recent tweets\n",
    "    alltweets.extend(new_tweets)\n",
    "\n",
    "    #save the id of the oldest tweet less one\n",
    "    oldest = alltweets[-1].id - 1\n",
    "\n",
    "    #keep grabbing tweets until there are no tweets left to grab\n",
    "    while len(new_tweets) > 0:\n",
    "        print(f\"getting tweets form {oldest}\")\n",
    "\n",
    "        #all subsiquent requests use the max_id param to prevent duplicates\n",
    "        new_tweets = api.user_timeline(screen_name=screen_name, count=200, max_id=oldest)\n",
    "\n",
    "        #save most recent tweets\n",
    "        alltweets.extend(new_tweets)\n",
    "\n",
    "        #update the id of the oldest tweet less one\n",
    "        oldest = alltweets[-1].id - 1\n",
    "        print(f\"...{len(alltweets)} tweets downloaded so far\")\n",
    "    tweets = [tweet._json for tweet in alltweets]\n",
    "    \n",
    "    # save the list of tweets\n",
    "    with open(screen_name+'.pickle', 'wb') as handle:\n",
    "        pickle.dump(tweets, handle, protocol=pickle.HIGHEST_PROTOCOL)\n",
    "\n",
    "        return tweets"
   ]
  },
  {
   "cell_type": "code",
   "execution_count": null,
   "metadata": {},
   "outputs": [],
   "source": [
    "tweets = get_all_tweets('elonmusk')"
   ]
  },
  {
   "cell_type": "markdown",
   "metadata": {},
   "source": [
    "# Which are the top 3 hashtags of Elon Musk?"
   ]
  },
  {
   "cell_type": "code",
   "execution_count": 67,
   "metadata": {
    "ExecuteTime": {
     "end_time": "2021-02-14T23:45:12.728782Z",
     "start_time": "2021-02-14T23:45:12.704919Z"
    }
   },
   "outputs": [
    {
     "data": {
      "text/plain": [
       "8      [{'text': 'AI', 'indices': [22, 25]}, {'text':...\n",
       "15        [{'text': 'TEAMMOLLY', 'indices': [270, 280]}]\n",
       "69              [{'text': 'tesla', 'indices': [12, 18]}]\n",
       "71     [{'text': 'Tesla', 'indices': [40, 46]}, {'tex...\n",
       "80     [{'text': 'ELONGOATTOKEN', 'indices': [38, 52]...\n",
       "94     [{'text': 'ClimateCrisis', 'indices': [87, 101]}]\n",
       "96     [{'text': 'ElectricVehicles', 'indices': [70, ...\n",
       "128              [{'text': 'FSD', 'indices': [97, 101]}]\n",
       "146            [{'text': 'DF22', 'indices': [273, 278]}]\n",
       "158    [{'text': 'Tesla', 'indices': [144, 150]}, {'t...\n",
       "Name: hashtags, dtype: object"
      ]
     },
     "execution_count": 67,
     "metadata": {},
     "output_type": "execute_result"
    }
   ],
   "source": [
    "hashtags= data[data['hashtags'].str.len() > 0]['hashtags']\n",
    "hashtags"
   ]
  },
  {
   "cell_type": "code",
   "execution_count": 68,
   "metadata": {},
   "outputs": [
    {
     "data": {
      "text/plain": [
       "8                    {'text': 'AI', 'indices': [22, 25]}\n",
       "8                  {'text': 'Web3', 'indices': [40, 45]}\n",
       "8               {'text': 'Creator', 'indices': [46, 54]}\n",
       "8      {'text': 'cryptocurrencies', 'indices': [88, 1...\n",
       "8      {'text': 'MachineLearning', 'indices': [106, 1...\n",
       "8                  {'text': 'AI', 'indices': [123, 126]}\n",
       "8              {'text': 'Python', 'indices': [127, 134]}\n",
       "15          {'text': 'TEAMMOLLY', 'indices': [270, 280]}\n",
       "69                {'text': 'tesla', 'indices': [12, 18]}\n",
       "71                {'text': 'Tesla', 'indices': [40, 46]}\n",
       "71      {'text': 'SelfDrivingCars', 'indices': [57, 73]}\n",
       "71       {'text': 'selfDrivingCar', 'indices': [74, 89]}\n",
       "80        {'text': 'ELONGOATTOKEN', 'indices': [38, 52]}\n",
       "80             {'text': 'Dogecoin', 'indices': [57, 66]}\n",
       "80              {'text': 'Tesla', 'indices': [137, 143]}\n",
       "80               {'text': 'Doge', 'indices': [154, 159]}\n",
       "80           {'text': 'DOGEARMY', 'indices': [180, 189]}\n",
       "80            {'text': 'DogeFam', 'indices': [190, 198]}\n",
       "80           {'text': 'Dogecoin', 'indices': [199, 208]}\n",
       "94       {'text': 'ClimateCrisis', 'indices': [87, 101]}\n",
       "96     {'text': 'ElectricVehicles', 'indices': [70, 87]}\n",
       "96           {'text': 'Renewables', 'indices': [88, 99]}\n",
       "96     {'text': 'RenewableEnergy', 'indices': [100, 1...\n",
       "128                {'text': 'FSD', 'indices': [97, 101]}\n",
       "146              {'text': 'DF22', 'indices': [273, 278]}\n",
       "158             {'text': 'Tesla', 'indices': [144, 150]}\n",
       "158               {'text': 'FSD', 'indices': [151, 155]}\n",
       "158           {'text': 'FSDBeta', 'indices': [156, 164]}\n",
       "Name: hashtags, dtype: object"
      ]
     },
     "execution_count": 68,
     "metadata": {},
     "output_type": "execute_result"
    }
   ],
   "source": [
    "hashtags = hashtags.explode()\n",
    "hashtags"
   ]
  },
  {
   "cell_type": "code",
   "execution_count": 69,
   "metadata": {},
   "outputs": [
    {
     "data": {
      "text/html": [
       "<div>\n",
       "<style scoped>\n",
       "    .dataframe tbody tr th:only-of-type {\n",
       "        vertical-align: middle;\n",
       "    }\n",
       "\n",
       "    .dataframe tbody tr th {\n",
       "        vertical-align: top;\n",
       "    }\n",
       "\n",
       "    .dataframe thead th {\n",
       "        text-align: right;\n",
       "    }\n",
       "</style>\n",
       "<table border=\"1\" class=\"dataframe\">\n",
       "  <thead>\n",
       "    <tr style=\"text-align: right;\">\n",
       "      <th></th>\n",
       "      <th>text</th>\n",
       "      <th>indices</th>\n",
       "    </tr>\n",
       "  </thead>\n",
       "  <tbody>\n",
       "    <tr>\n",
       "      <th>0</th>\n",
       "      <td>AI</td>\n",
       "      <td>[22, 25]</td>\n",
       "    </tr>\n",
       "    <tr>\n",
       "      <th>1</th>\n",
       "      <td>Web3</td>\n",
       "      <td>[40, 45]</td>\n",
       "    </tr>\n",
       "    <tr>\n",
       "      <th>2</th>\n",
       "      <td>Creator</td>\n",
       "      <td>[46, 54]</td>\n",
       "    </tr>\n",
       "    <tr>\n",
       "      <th>3</th>\n",
       "      <td>cryptocurrencies</td>\n",
       "      <td>[88, 105]</td>\n",
       "    </tr>\n",
       "    <tr>\n",
       "      <th>4</th>\n",
       "      <td>MachineLearning</td>\n",
       "      <td>[106, 122]</td>\n",
       "    </tr>\n",
       "    <tr>\n",
       "      <th>5</th>\n",
       "      <td>AI</td>\n",
       "      <td>[123, 126]</td>\n",
       "    </tr>\n",
       "    <tr>\n",
       "      <th>6</th>\n",
       "      <td>Python</td>\n",
       "      <td>[127, 134]</td>\n",
       "    </tr>\n",
       "    <tr>\n",
       "      <th>7</th>\n",
       "      <td>TEAMMOLLY</td>\n",
       "      <td>[270, 280]</td>\n",
       "    </tr>\n",
       "    <tr>\n",
       "      <th>8</th>\n",
       "      <td>tesla</td>\n",
       "      <td>[12, 18]</td>\n",
       "    </tr>\n",
       "    <tr>\n",
       "      <th>9</th>\n",
       "      <td>Tesla</td>\n",
       "      <td>[40, 46]</td>\n",
       "    </tr>\n",
       "    <tr>\n",
       "      <th>10</th>\n",
       "      <td>SelfDrivingCars</td>\n",
       "      <td>[57, 73]</td>\n",
       "    </tr>\n",
       "    <tr>\n",
       "      <th>11</th>\n",
       "      <td>selfDrivingCar</td>\n",
       "      <td>[74, 89]</td>\n",
       "    </tr>\n",
       "    <tr>\n",
       "      <th>12</th>\n",
       "      <td>ELONGOATTOKEN</td>\n",
       "      <td>[38, 52]</td>\n",
       "    </tr>\n",
       "    <tr>\n",
       "      <th>13</th>\n",
       "      <td>Dogecoin</td>\n",
       "      <td>[57, 66]</td>\n",
       "    </tr>\n",
       "    <tr>\n",
       "      <th>14</th>\n",
       "      <td>Tesla</td>\n",
       "      <td>[137, 143]</td>\n",
       "    </tr>\n",
       "    <tr>\n",
       "      <th>15</th>\n",
       "      <td>Doge</td>\n",
       "      <td>[154, 159]</td>\n",
       "    </tr>\n",
       "    <tr>\n",
       "      <th>16</th>\n",
       "      <td>DOGEARMY</td>\n",
       "      <td>[180, 189]</td>\n",
       "    </tr>\n",
       "    <tr>\n",
       "      <th>17</th>\n",
       "      <td>DogeFam</td>\n",
       "      <td>[190, 198]</td>\n",
       "    </tr>\n",
       "    <tr>\n",
       "      <th>18</th>\n",
       "      <td>Dogecoin</td>\n",
       "      <td>[199, 208]</td>\n",
       "    </tr>\n",
       "    <tr>\n",
       "      <th>19</th>\n",
       "      <td>ClimateCrisis</td>\n",
       "      <td>[87, 101]</td>\n",
       "    </tr>\n",
       "    <tr>\n",
       "      <th>20</th>\n",
       "      <td>ElectricVehicles</td>\n",
       "      <td>[70, 87]</td>\n",
       "    </tr>\n",
       "    <tr>\n",
       "      <th>21</th>\n",
       "      <td>Renewables</td>\n",
       "      <td>[88, 99]</td>\n",
       "    </tr>\n",
       "    <tr>\n",
       "      <th>22</th>\n",
       "      <td>RenewableEnergy</td>\n",
       "      <td>[100, 116]</td>\n",
       "    </tr>\n",
       "    <tr>\n",
       "      <th>23</th>\n",
       "      <td>FSD</td>\n",
       "      <td>[97, 101]</td>\n",
       "    </tr>\n",
       "    <tr>\n",
       "      <th>24</th>\n",
       "      <td>DF22</td>\n",
       "      <td>[273, 278]</td>\n",
       "    </tr>\n",
       "    <tr>\n",
       "      <th>25</th>\n",
       "      <td>Tesla</td>\n",
       "      <td>[144, 150]</td>\n",
       "    </tr>\n",
       "    <tr>\n",
       "      <th>26</th>\n",
       "      <td>FSD</td>\n",
       "      <td>[151, 155]</td>\n",
       "    </tr>\n",
       "    <tr>\n",
       "      <th>27</th>\n",
       "      <td>FSDBeta</td>\n",
       "      <td>[156, 164]</td>\n",
       "    </tr>\n",
       "  </tbody>\n",
       "</table>\n",
       "</div>"
      ],
      "text/plain": [
       "                text     indices\n",
       "0                 AI    [22, 25]\n",
       "1               Web3    [40, 45]\n",
       "2            Creator    [46, 54]\n",
       "3   cryptocurrencies   [88, 105]\n",
       "4    MachineLearning  [106, 122]\n",
       "5                 AI  [123, 126]\n",
       "6             Python  [127, 134]\n",
       "7          TEAMMOLLY  [270, 280]\n",
       "8              tesla    [12, 18]\n",
       "9              Tesla    [40, 46]\n",
       "10   SelfDrivingCars    [57, 73]\n",
       "11    selfDrivingCar    [74, 89]\n",
       "12     ELONGOATTOKEN    [38, 52]\n",
       "13          Dogecoin    [57, 66]\n",
       "14             Tesla  [137, 143]\n",
       "15              Doge  [154, 159]\n",
       "16          DOGEARMY  [180, 189]\n",
       "17           DogeFam  [190, 198]\n",
       "18          Dogecoin  [199, 208]\n",
       "19     ClimateCrisis   [87, 101]\n",
       "20  ElectricVehicles    [70, 87]\n",
       "21        Renewables    [88, 99]\n",
       "22   RenewableEnergy  [100, 116]\n",
       "23               FSD   [97, 101]\n",
       "24              DF22  [273, 278]\n",
       "25             Tesla  [144, 150]\n",
       "26               FSD  [151, 155]\n",
       "27           FSDBeta  [156, 164]"
      ]
     },
     "execution_count": 69,
     "metadata": {},
     "output_type": "execute_result"
    }
   ],
   "source": [
    "hashtags = pd.json_normalize(hashtags)\n",
    "hashtags"
   ]
  },
  {
   "cell_type": "code",
   "execution_count": 71,
   "metadata": {},
   "outputs": [
    {
     "data": {
      "text/plain": [
       "Tesla       3\n",
       "AI          2\n",
       "Dogecoin    2\n",
       "Name: text, dtype: int64"
      ]
     },
     "execution_count": 71,
     "metadata": {},
     "output_type": "execute_result"
    }
   ],
   "source": [
    "hashtags['text'].value_counts().head(3)"
   ]
  },
  {
   "cell_type": "markdown",
   "metadata": {},
   "source": [
    "# What time of the day is Elon Musk tweeting the most?"
   ]
  },
  {
   "cell_type": "code",
   "execution_count": 15,
   "metadata": {
    "ExecuteTime": {
     "end_time": "2021-02-14T23:45:13.492161Z",
     "start_time": "2021-02-14T23:45:12.740660Z"
    }
   },
   "outputs": [
    {
     "data": {
      "text/html": [
       "<div>\n",
       "<style scoped>\n",
       "    .dataframe tbody tr th:only-of-type {\n",
       "        vertical-align: middle;\n",
       "    }\n",
       "\n",
       "    .dataframe tbody tr th {\n",
       "        vertical-align: top;\n",
       "    }\n",
       "\n",
       "    .dataframe thead th {\n",
       "        text-align: right;\n",
       "    }\n",
       "</style>\n",
       "<table border=\"1\" class=\"dataframe\">\n",
       "  <thead>\n",
       "    <tr style=\"text-align: right;\">\n",
       "      <th></th>\n",
       "      <th>id</th>\n",
       "      <th>created_at</th>\n",
       "      <th>user</th>\n",
       "      <th>text</th>\n",
       "      <th>favorite_count</th>\n",
       "      <th>retweet_count</th>\n",
       "      <th>followers_count</th>\n",
       "      <th>following_count</th>\n",
       "      <th>friends_count</th>\n",
       "      <th>hashtags</th>\n",
       "      <th>time_hour</th>\n",
       "    </tr>\n",
       "  </thead>\n",
       "  <tbody>\n",
       "    <tr>\n",
       "      <th>0</th>\n",
       "      <td>1361096223428653056</td>\n",
       "      <td>2021-02-14 23:33:22+00:00</td>\n",
       "      <td>Elon Musk</td>\n",
       "      <td>@RationalEtienne An acceptable percentage. Dog...</td>\n",
       "      <td>850</td>\n",
       "      <td>160</td>\n",
       "      <td>46857343</td>\n",
       "      <td>None</td>\n",
       "      <td>103</td>\n",
       "      <td>[]</td>\n",
       "      <td>23</td>\n",
       "    </tr>\n",
       "    <tr>\n",
       "      <th>1</th>\n",
       "      <td>1361094185412100096</td>\n",
       "      <td>2021-02-14 23:25:16+00:00</td>\n",
       "      <td>Elon Musk</td>\n",
       "      <td>If major Dogecoin holders sell most of their c...</td>\n",
       "      <td>44115</td>\n",
       "      <td>7647</td>\n",
       "      <td>46857343</td>\n",
       "      <td>None</td>\n",
       "      <td>103</td>\n",
       "      <td>[]</td>\n",
       "      <td>23</td>\n",
       "    </tr>\n",
       "    <tr>\n",
       "      <th>2</th>\n",
       "      <td>1360774866023112704</td>\n",
       "      <td>2021-02-14 02:16:24+00:00</td>\n",
       "      <td>Elon Musk</td>\n",
       "      <td>@MarcusHouseGame Success on landing probabilit...</td>\n",
       "      <td>14958</td>\n",
       "      <td>731</td>\n",
       "      <td>46857343</td>\n",
       "      <td>None</td>\n",
       "      <td>103</td>\n",
       "      <td>[]</td>\n",
       "      <td>2</td>\n",
       "    </tr>\n",
       "    <tr>\n",
       "      <th>3</th>\n",
       "      <td>1360700181658886147</td>\n",
       "      <td>2021-02-13 21:19:38+00:00</td>\n",
       "      <td>Elon Musk</td>\n",
       "      <td>было бы большой честью поговорить с вами</td>\n",
       "      <td>57503</td>\n",
       "      <td>3741</td>\n",
       "      <td>46857343</td>\n",
       "      <td>None</td>\n",
       "      <td>103</td>\n",
       "      <td>[]</td>\n",
       "      <td>21</td>\n",
       "    </tr>\n",
       "    <tr>\n",
       "      <th>4</th>\n",
       "      <td>1360697159767711749</td>\n",
       "      <td>2021-02-13 21:07:38+00:00</td>\n",
       "      <td>Elon Musk</td>\n",
       "      <td>.@KremlinRussia_E would you like join me for a...</td>\n",
       "      <td>170243</td>\n",
       "      <td>11820</td>\n",
       "      <td>46857343</td>\n",
       "      <td>None</td>\n",
       "      <td>103</td>\n",
       "      <td>[]</td>\n",
       "      <td>21</td>\n",
       "    </tr>\n",
       "  </tbody>\n",
       "</table>\n",
       "</div>"
      ],
      "text/plain": [
       "                    id                created_at       user  \\\n",
       "0  1361096223428653056 2021-02-14 23:33:22+00:00  Elon Musk   \n",
       "1  1361094185412100096 2021-02-14 23:25:16+00:00  Elon Musk   \n",
       "2  1360774866023112704 2021-02-14 02:16:24+00:00  Elon Musk   \n",
       "3  1360700181658886147 2021-02-13 21:19:38+00:00  Elon Musk   \n",
       "4  1360697159767711749 2021-02-13 21:07:38+00:00  Elon Musk   \n",
       "\n",
       "                                                text  favorite_count  \\\n",
       "0  @RationalEtienne An acceptable percentage. Dog...             850   \n",
       "1  If major Dogecoin holders sell most of their c...           44115   \n",
       "2  @MarcusHouseGame Success on landing probabilit...           14958   \n",
       "3           было бы большой честью поговорить с вами           57503   \n",
       "4  .@KremlinRussia_E would you like join me for a...          170243   \n",
       "\n",
       "   retweet_count  followers_count following_count  friends_count hashtags  \\\n",
       "0            160         46857343            None            103       []   \n",
       "1           7647         46857343            None            103       []   \n",
       "2            731         46857343            None            103       []   \n",
       "3           3741         46857343            None            103       []   \n",
       "4          11820         46857343            None            103       []   \n",
       "\n",
       "   time_hour  \n",
       "0         23  \n",
       "1         23  \n",
       "2          2  \n",
       "3         21  \n",
       "4         21  "
      ]
     },
     "execution_count": 15,
     "metadata": {},
     "output_type": "execute_result"
    }
   ],
   "source": [
    "data['created_at'] =  pd.to_datetime(data['created_at'])\n",
    "data['time_hour'] = data['created_at'].dt.hour\n",
    "data.head()"
   ]
  },
  {
   "cell_type": "code",
   "execution_count": 16,
   "metadata": {
    "ExecuteTime": {
     "end_time": "2021-02-14T23:45:13.520219Z",
     "start_time": "2021-02-14T23:45:13.494768Z"
    }
   },
   "outputs": [
    {
     "data": {
      "text/html": [
       "<div>\n",
       "<style scoped>\n",
       "    .dataframe tbody tr th:only-of-type {\n",
       "        vertical-align: middle;\n",
       "    }\n",
       "\n",
       "    .dataframe tbody tr th {\n",
       "        vertical-align: top;\n",
       "    }\n",
       "\n",
       "    .dataframe thead th {\n",
       "        text-align: right;\n",
       "    }\n",
       "</style>\n",
       "<table border=\"1\" class=\"dataframe\">\n",
       "  <thead>\n",
       "    <tr style=\"text-align: right;\">\n",
       "      <th></th>\n",
       "      <th>id</th>\n",
       "      <th>created_at</th>\n",
       "      <th>user</th>\n",
       "      <th>text</th>\n",
       "      <th>favorite_count</th>\n",
       "      <th>retweet_count</th>\n",
       "      <th>followers_count</th>\n",
       "      <th>following_count</th>\n",
       "      <th>friends_count</th>\n",
       "      <th>hashtags</th>\n",
       "    </tr>\n",
       "    <tr>\n",
       "      <th>time_hour</th>\n",
       "      <th></th>\n",
       "      <th></th>\n",
       "      <th></th>\n",
       "      <th></th>\n",
       "      <th></th>\n",
       "      <th></th>\n",
       "      <th></th>\n",
       "      <th></th>\n",
       "      <th></th>\n",
       "      <th></th>\n",
       "    </tr>\n",
       "  </thead>\n",
       "  <tbody>\n",
       "    <tr>\n",
       "      <th>18</th>\n",
       "      <td>205</td>\n",
       "      <td>205</td>\n",
       "      <td>205</td>\n",
       "      <td>205</td>\n",
       "      <td>205</td>\n",
       "      <td>205</td>\n",
       "      <td>205</td>\n",
       "      <td>0</td>\n",
       "      <td>205</td>\n",
       "      <td>205</td>\n",
       "    </tr>\n",
       "    <tr>\n",
       "      <th>19</th>\n",
       "      <td>200</td>\n",
       "      <td>200</td>\n",
       "      <td>200</td>\n",
       "      <td>200</td>\n",
       "      <td>200</td>\n",
       "      <td>200</td>\n",
       "      <td>200</td>\n",
       "      <td>0</td>\n",
       "      <td>200</td>\n",
       "      <td>200</td>\n",
       "    </tr>\n",
       "    <tr>\n",
       "      <th>23</th>\n",
       "      <td>199</td>\n",
       "      <td>199</td>\n",
       "      <td>199</td>\n",
       "      <td>199</td>\n",
       "      <td>199</td>\n",
       "      <td>199</td>\n",
       "      <td>199</td>\n",
       "      <td>0</td>\n",
       "      <td>199</td>\n",
       "      <td>199</td>\n",
       "    </tr>\n",
       "    <tr>\n",
       "      <th>22</th>\n",
       "      <td>196</td>\n",
       "      <td>196</td>\n",
       "      <td>196</td>\n",
       "      <td>196</td>\n",
       "      <td>196</td>\n",
       "      <td>196</td>\n",
       "      <td>196</td>\n",
       "      <td>0</td>\n",
       "      <td>196</td>\n",
       "      <td>196</td>\n",
       "    </tr>\n",
       "    <tr>\n",
       "      <th>20</th>\n",
       "      <td>193</td>\n",
       "      <td>193</td>\n",
       "      <td>193</td>\n",
       "      <td>193</td>\n",
       "      <td>193</td>\n",
       "      <td>193</td>\n",
       "      <td>193</td>\n",
       "      <td>0</td>\n",
       "      <td>193</td>\n",
       "      <td>193</td>\n",
       "    </tr>\n",
       "  </tbody>\n",
       "</table>\n",
       "</div>"
      ],
      "text/plain": [
       "            id  created_at  user  text  favorite_count  retweet_count  \\\n",
       "time_hour                                                               \n",
       "18         205         205   205   205             205            205   \n",
       "19         200         200   200   200             200            200   \n",
       "23         199         199   199   199             199            199   \n",
       "22         196         196   196   196             196            196   \n",
       "20         193         193   193   193             193            193   \n",
       "\n",
       "           followers_count  following_count  friends_count  hashtags  \n",
       "time_hour                                                             \n",
       "18                     205                0            205       205  \n",
       "19                     200                0            200       200  \n",
       "23                     199                0            199       199  \n",
       "22                     196                0            196       196  \n",
       "20                     193                0            193       193  "
      ]
     },
     "execution_count": 16,
     "metadata": {},
     "output_type": "execute_result"
    }
   ],
   "source": [
    "max_tweets = data.groupby(['time_hour']).count().sort_values('id', ascending=False)\n",
    "max_tweets.head()"
   ]
  },
  {
   "cell_type": "code",
   "execution_count": 17,
   "metadata": {
    "ExecuteTime": {
     "end_time": "2021-02-14T23:45:13.867273Z",
     "start_time": "2021-02-14T23:45:13.522999Z"
    }
   },
   "outputs": [
    {
     "data": {
      "image/png": "[encoded data removed]",
      "text/plain": [
       "<Figure size 720x720 with 1 Axes>"
      ]
     },
     "metadata": {
      "needs_background": "light"
     },
     "output_type": "display_data"
    }
   ],
   "source": [
    "plt.figure(figsize=(10,10))\n",
    "plt.hist(data['time_hour'],bins=24)\n",
    "plt.xlabel('Hour of the dat=y')\n",
    "plt.ylabel('Number of tweets')\n",
    "plt.title('Elon Musks Tweets per hour')\n",
    "None"
   ]
  },
  {
   "cell_type": "markdown",
   "metadata": {
    "id": "SjdHuCjdFoxf"
   },
   "source": [
    "# Get the most recent tweets for ‘tesla’. How many are there from Elon Musk?"
   ]
  },
  {
   "cell_type": "code",
   "execution_count": 102,
   "metadata": {
    "ExecuteTime": {
     "end_time": "2021-07-07T18:27:29.551656Z",
     "start_time": "2021-07-07T18:27:29.539959Z"
    }
   },
   "outputs": [],
   "source": [
    "def get_all_popular_tweets(query):\n",
    "    #Twitter only allows access to a users most recent 3240 tweets with this method\n",
    "    #initialize a list to hold all the tweepy Tweets\n",
    "    alltweets = []\n",
    "\n",
    "    #make initial request for most recent tweets (200 is the maximum allowed count)\n",
    "    new_tweets = api.search_tweets(q= query, result_type='popular', count=200, tweet_mode = \"extended\")\n",
    "\n",
    "    #save most recent tweets\n",
    "    alltweets.extend(new_tweets)\n",
    "\n",
    "    #save the id of the oldest tweet less one\n",
    "    oldest = alltweets[-1].id - 1\n",
    "\n",
    "    #keep grabbing tweets until there are no tweets left to grab\n",
    "    while len(new_tweets) > 0:\n",
    "        print(f\"getting tweets before {oldest}\")\n",
    "\n",
    "        #all subsiquent requests use the max_id param to prevent duplicates\n",
    "        new_tweets = api.search_tweets(q= query, result_type='popular', count=200, tweet_mode = \"extended\", max_id=oldest)\n",
    "\n",
    "        #save most recent tweets\n",
    "        alltweets.extend(new_tweets)\n",
    "\n",
    "        #update the id of the oldest tweet less one\n",
    "        oldest = alltweets[-1].id - 1\n",
    "        print(f\"...{len(alltweets)} tweets downloaded so far\")\n",
    "    tweets = [json.loads(json.dumps(tweet._json)) for tweet in alltweets]\n",
    "    \n",
    "    # save the list of tweets\n",
    "    with open(query+'.pickle', 'wb') as handle:\n",
    "        pickle.dump(tweets, handle, protocol=pickle.HIGHEST_PROTOCOL)\n",
    "\n",
    "        return tweets"
   ]
  },
  {
   "cell_type": "code",
   "execution_count": 103,
   "metadata": {
    "ExecuteTime": {
     "end_time": "2021-07-07T18:27:35.765105Z",
     "start_time": "2021-07-07T18:27:30.296229Z"
    }
   },
   "outputs": [
    {
     "name": "stdout",
     "output_type": "stream",
     "text": [
      "getting tweets before 1574412957051592703\n",
      "...30 tweets downloaded so far\n",
      "getting tweets before 1572916939298689023\n",
      "...45 tweets downloaded so far\n",
      "getting tweets before 1572548732637306879\n",
      "...58 tweets downloaded so far\n",
      "getting tweets before 1572233508872912897\n",
      "...70 tweets downloaded so far\n",
      "getting tweets before 1572201470367354880\n",
      "...78 tweets downloaded so far\n",
      "getting tweets before 1572118430362238975\n",
      "...78 tweets downloaded so far\n"
     ]
    }
   ],
   "source": [
    "tweets = get_all_popular_tweets('tesla')"
   ]
  },
  {
   "cell_type": "code",
   "execution_count": 104,
   "metadata": {
    "ExecuteTime": {
     "end_time": "2021-02-14T23:45:19.506579Z",
     "start_time": "2021-02-14T23:45:19.489272Z"
    },
    "colab": {
     "base_uri": "https://localhost:8080/",
     "height": 1000
    },
    "executionInfo": {
     "elapsed": 3429,
     "status": "ok",
     "timestamp": 1610580740247,
     "user": {
      "displayName": "Ilias Chamatidis",
      "photoUrl": "",
      "userId": "13226088530674863520"
     },
     "user_tz": -120
    },
    "id": "mRG8L8y3eJ3C",
    "outputId": "3b3f777e-0655-43ce-a6a6-08be0f2a0c3c"
   },
   "outputs": [],
   "source": [
    "id_ = []\n",
    "text = []\n",
    "favorite_count = []\n",
    "retweet_count = []\n",
    "followers_count = []\n",
    "following = []\n",
    "friends_count = []\n",
    "user = []\n",
    "entities = []\n",
    "created_at = []\n",
    "\n",
    "for tweet in tweets:\n",
    "    id_.append(tweet['id'])\n",
    "    user.append(tweet['user']['name'])\n",
    "    try:\n",
    "        text.append(tweet['full_text'])\n",
    "    except:\n",
    "        text.append(tweet['text'])\n",
    "    favorite_count.append(tweet['favorite_count'])\n",
    "    retweet_count.append(tweet['retweet_count'])\n",
    "    followers_count.append(tweet['user']['followers_count'])\n",
    "    following.append(tweet['user']['following'])\n",
    "    friends_count.append(tweet['user']['friends_count'])\n",
    "    entities.append(tweet['entities']['hashtags'])\n",
    "    created_at.append(tweet['created_at'])\n",
    "\n"
   ]
  },
  {
   "cell_type": "code",
   "execution_count": 105,
   "metadata": {
    "ExecuteTime": {
     "end_time": "2021-02-14T23:45:19.558208Z",
     "start_time": "2021-02-14T23:45:19.511360Z"
    },
    "colab": {
     "base_uri": "https://localhost:8080/"
    },
    "executionInfo": {
     "elapsed": 650,
     "status": "ok",
     "timestamp": 1610580763632,
     "user": {
      "displayName": "Ilias Chamatidis",
      "photoUrl": "",
      "userId": "13226088530674863520"
     },
     "user_tz": -120
    },
    "id": "xeBMFI0weUh1",
    "outputId": "bd6c6889-2738-49a6-a65f-9a5323967589"
   },
   "outputs": [
    {
     "data": {
      "text/html": [
       "<div>\n",
       "<style scoped>\n",
       "    .dataframe tbody tr th:only-of-type {\n",
       "        vertical-align: middle;\n",
       "    }\n",
       "\n",
       "    .dataframe tbody tr th {\n",
       "        vertical-align: top;\n",
       "    }\n",
       "\n",
       "    .dataframe thead th {\n",
       "        text-align: right;\n",
       "    }\n",
       "</style>\n",
       "<table border=\"1\" class=\"dataframe\">\n",
       "  <thead>\n",
       "    <tr style=\"text-align: right;\">\n",
       "      <th></th>\n",
       "      <th>id</th>\n",
       "      <th>created_at</th>\n",
       "      <th>user</th>\n",
       "      <th>text</th>\n",
       "      <th>favorite_count</th>\n",
       "      <th>retweet_count</th>\n",
       "      <th>followers_count</th>\n",
       "      <th>following_count</th>\n",
       "      <th>friends_count</th>\n",
       "      <th>hashtags</th>\n",
       "    </tr>\n",
       "  </thead>\n",
       "  <tbody>\n",
       "    <tr>\n",
       "      <th>0</th>\n",
       "      <td>1574577873280704525</td>\n",
       "      <td>Tue Sep 27 01:53:13 +0000 2022</td>\n",
       "      <td>maura quint</td>\n",
       "      <td>yeah come on, NASA, unmanned vehicles crashing...</td>\n",
       "      <td>22519</td>\n",
       "      <td>1761</td>\n",
       "      <td>125024</td>\n",
       "      <td>None</td>\n",
       "      <td>1316</td>\n",
       "      <td>[]</td>\n",
       "    </tr>\n",
       "    <tr>\n",
       "      <th>1</th>\n",
       "      <td>1574817415573245952</td>\n",
       "      <td>Tue Sep 27 17:45:05 +0000 2022</td>\n",
       "      <td>The Onion</td>\n",
       "      <td>Every Question For Tesla Job Candidate About R...</td>\n",
       "      <td>2481</td>\n",
       "      <td>212</td>\n",
       "      <td>11979455</td>\n",
       "      <td>None</td>\n",
       "      <td>6</td>\n",
       "      <td>[]</td>\n",
       "    </tr>\n",
       "    <tr>\n",
       "      <th>2</th>\n",
       "      <td>1575153807759220736</td>\n",
       "      <td>Wed Sep 28 16:01:47 +0000 2022</td>\n",
       "      <td>Nathanael Derek</td>\n",
       "      <td>Special shout out to Ashley for fighting throu...</td>\n",
       "      <td>133</td>\n",
       "      <td>83</td>\n",
       "      <td>3709</td>\n",
       "      <td>None</td>\n",
       "      <td>1061</td>\n",
       "      <td>[]</td>\n",
       "    </tr>\n",
       "    <tr>\n",
       "      <th>3</th>\n",
       "      <td>1574549669736218632</td>\n",
       "      <td>Tue Sep 27 00:01:09 +0000 2022</td>\n",
       "      <td>Dave Lee</td>\n",
       "      <td>Crazy to think about how many people/investors...</td>\n",
       "      <td>1651</td>\n",
       "      <td>117</td>\n",
       "      <td>259767</td>\n",
       "      <td>None</td>\n",
       "      <td>337</td>\n",
       "      <td>[]</td>\n",
       "    </tr>\n",
       "    <tr>\n",
       "      <th>4</th>\n",
       "      <td>1574701308250128384</td>\n",
       "      <td>Tue Sep 27 10:03:43 +0000 2022</td>\n",
       "      <td>Gary Black</td>\n",
       "      <td>$TSLA management expects another “very high vo...</td>\n",
       "      <td>987</td>\n",
       "      <td>96</td>\n",
       "      <td>226037</td>\n",
       "      <td>None</td>\n",
       "      <td>98</td>\n",
       "      <td>[]</td>\n",
       "    </tr>\n",
       "    <tr>\n",
       "      <th>...</th>\n",
       "      <td>...</td>\n",
       "      <td>...</td>\n",
       "      <td>...</td>\n",
       "      <td>...</td>\n",
       "      <td>...</td>\n",
       "      <td>...</td>\n",
       "      <td>...</td>\n",
       "      <td>...</td>\n",
       "      <td>...</td>\n",
       "      <td>...</td>\n",
       "    </tr>\n",
       "    <tr>\n",
       "      <th>73</th>\n",
       "      <td>1572133467609088001</td>\n",
       "      <td>Tue Sep 20 08:00:02 +0000 2022</td>\n",
       "      <td>CNBC</td>\n",
       "      <td>Here's how an unknown Vietnamese carmaker is t...</td>\n",
       "      <td>35</td>\n",
       "      <td>23</td>\n",
       "      <td>4850768</td>\n",
       "      <td>None</td>\n",
       "      <td>857</td>\n",
       "      <td>[]</td>\n",
       "    </tr>\n",
       "    <tr>\n",
       "      <th>74</th>\n",
       "      <td>1572162864948936706</td>\n",
       "      <td>Tue Sep 20 09:56:51 +0000 2022</td>\n",
       "      <td>Sky News</td>\n",
       "      <td>The founder of Tesla and SpaceX posted on Twit...</td>\n",
       "      <td>63</td>\n",
       "      <td>21</td>\n",
       "      <td>8087113</td>\n",
       "      <td>None</td>\n",
       "      <td>23</td>\n",
       "      <td>[]</td>\n",
       "    </tr>\n",
       "    <tr>\n",
       "      <th>75</th>\n",
       "      <td>1572199893019795456</td>\n",
       "      <td>Tue Sep 20 12:23:59 +0000 2022</td>\n",
       "      <td>DW Español</td>\n",
       "      <td>Elon Musk busca que las fábricas de #Tesla en ...</td>\n",
       "      <td>54</td>\n",
       "      <td>16</td>\n",
       "      <td>1276207</td>\n",
       "      <td>None</td>\n",
       "      <td>161</td>\n",
       "      <td>[{'text': 'Tesla', 'indices': [36, 42]}]</td>\n",
       "    </tr>\n",
       "    <tr>\n",
       "      <th>76</th>\n",
       "      <td>1572136325964529665</td>\n",
       "      <td>Tue Sep 20 08:11:23 +0000 2022</td>\n",
       "      <td>𝙳𝚊𝚟𝚒𝚍 𝚂𝚌𝚑𝚠𝚊𝚛𝚝𝚣</td>\n",
       "      <td>The interviewer responds, how about $75K but a...</td>\n",
       "      <td>814</td>\n",
       "      <td>25</td>\n",
       "      <td>387171</td>\n",
       "      <td>None</td>\n",
       "      <td>926</td>\n",
       "      <td>[]</td>\n",
       "    </tr>\n",
       "    <tr>\n",
       "      <th>77</th>\n",
       "      <td>1572118430362238976</td>\n",
       "      <td>Tue Sep 20 07:00:17 +0000 2022</td>\n",
       "      <td>Don Alphonso</td>\n",
       "      <td>Solche Objekte sind das richtige für einen Bea...</td>\n",
       "      <td>492</td>\n",
       "      <td>28</td>\n",
       "      <td>73214</td>\n",
       "      <td>None</td>\n",
       "      <td>647</td>\n",
       "      <td>[]</td>\n",
       "    </tr>\n",
       "  </tbody>\n",
       "</table>\n",
       "<p>78 rows × 10 columns</p>\n",
       "</div>"
      ],
      "text/plain": [
       "                     id                      created_at             user  \\\n",
       "0   1574577873280704525  Tue Sep 27 01:53:13 +0000 2022      maura quint   \n",
       "1   1574817415573245952  Tue Sep 27 17:45:05 +0000 2022        The Onion   \n",
       "2   1575153807759220736  Wed Sep 28 16:01:47 +0000 2022  Nathanael Derek   \n",
       "3   1574549669736218632  Tue Sep 27 00:01:09 +0000 2022         Dave Lee   \n",
       "4   1574701308250128384  Tue Sep 27 10:03:43 +0000 2022       Gary Black   \n",
       "..                  ...                             ...              ...   \n",
       "73  1572133467609088001  Tue Sep 20 08:00:02 +0000 2022             CNBC   \n",
       "74  1572162864948936706  Tue Sep 20 09:56:51 +0000 2022         Sky News   \n",
       "75  1572199893019795456  Tue Sep 20 12:23:59 +0000 2022       DW Español   \n",
       "76  1572136325964529665  Tue Sep 20 08:11:23 +0000 2022   𝙳𝚊𝚟𝚒𝚍 𝚂𝚌𝚑𝚠𝚊𝚛𝚝𝚣   \n",
       "77  1572118430362238976  Tue Sep 20 07:00:17 +0000 2022     Don Alphonso   \n",
       "\n",
       "                                                 text  favorite_count  \\\n",
       "0   yeah come on, NASA, unmanned vehicles crashing...           22519   \n",
       "1   Every Question For Tesla Job Candidate About R...            2481   \n",
       "2   Special shout out to Ashley for fighting throu...             133   \n",
       "3   Crazy to think about how many people/investors...            1651   \n",
       "4   $TSLA management expects another “very high vo...             987   \n",
       "..                                                ...             ...   \n",
       "73  Here's how an unknown Vietnamese carmaker is t...              35   \n",
       "74  The founder of Tesla and SpaceX posted on Twit...              63   \n",
       "75  Elon Musk busca que las fábricas de #Tesla en ...              54   \n",
       "76  The interviewer responds, how about $75K but a...             814   \n",
       "77  Solche Objekte sind das richtige für einen Bea...             492   \n",
       "\n",
       "    retweet_count  followers_count following_count  friends_count  \\\n",
       "0            1761           125024            None           1316   \n",
       "1             212         11979455            None              6   \n",
       "2              83             3709            None           1061   \n",
       "3             117           259767            None            337   \n",
       "4              96           226037            None             98   \n",
       "..            ...              ...             ...            ...   \n",
       "73             23          4850768            None            857   \n",
       "74             21          8087113            None             23   \n",
       "75             16          1276207            None            161   \n",
       "76             25           387171            None            926   \n",
       "77             28            73214            None            647   \n",
       "\n",
       "                                    hashtags  \n",
       "0                                         []  \n",
       "1                                         []  \n",
       "2                                         []  \n",
       "3                                         []  \n",
       "4                                         []  \n",
       "..                                       ...  \n",
       "73                                        []  \n",
       "74                                        []  \n",
       "75  [{'text': 'Tesla', 'indices': [36, 42]}]  \n",
       "76                                        []  \n",
       "77                                        []  \n",
       "\n",
       "[78 rows x 10 columns]"
      ]
     },
     "execution_count": 105,
     "metadata": {},
     "output_type": "execute_result"
    }
   ],
   "source": [
    "d = {\n",
    "    'id': id_,\n",
    "    'created_at': created_at,\n",
    "    'user': user,\n",
    "    'text': text,\n",
    "    'favorite_count': favorite_count,\n",
    "    'retweet_count': retweet_count,\n",
    "    'followers_count': followers_count,\n",
    "    'following_count': following,\n",
    "    'friends_count': friends_count,\n",
    "    'hashtags': entities\n",
    "}\n",
    "data = pd.DataFrame(data=d)\n",
    "data"
   ]
  },
  {
   "cell_type": "code",
   "execution_count": 106,
   "metadata": {
    "ExecuteTime": {
     "end_time": "2021-02-14T23:45:19.587667Z",
     "start_time": "2021-02-14T23:45:19.561671Z"
    }
   },
   "outputs": [
    {
     "data": {
      "text/html": [
       "<div>\n",
       "<style scoped>\n",
       "    .dataframe tbody tr th:only-of-type {\n",
       "        vertical-align: middle;\n",
       "    }\n",
       "\n",
       "    .dataframe tbody tr th {\n",
       "        vertical-align: top;\n",
       "    }\n",
       "\n",
       "    .dataframe thead th {\n",
       "        text-align: right;\n",
       "    }\n",
       "</style>\n",
       "<table border=\"1\" class=\"dataframe\">\n",
       "  <thead>\n",
       "    <tr style=\"text-align: right;\">\n",
       "      <th></th>\n",
       "      <th>id</th>\n",
       "      <th>created_at</th>\n",
       "      <th>user</th>\n",
       "      <th>text</th>\n",
       "      <th>favorite_count</th>\n",
       "      <th>retweet_count</th>\n",
       "      <th>followers_count</th>\n",
       "      <th>following_count</th>\n",
       "      <th>friends_count</th>\n",
       "      <th>hashtags</th>\n",
       "    </tr>\n",
       "  </thead>\n",
       "  <tbody>\n",
       "    <tr>\n",
       "      <th>21</th>\n",
       "      <td>1572620091396878338</td>\n",
       "      <td>Wed Sep 21 16:13:42 +0000 2022</td>\n",
       "      <td>Elon Musk</td>\n",
       "      <td>@teslaownersSV @Teslarati Maybe little electri...</td>\n",
       "      <td>4931</td>\n",
       "      <td>347</td>\n",
       "      <td>107254708</td>\n",
       "      <td>None</td>\n",
       "      <td>122</td>\n",
       "      <td>[]</td>\n",
       "    </tr>\n",
       "    <tr>\n",
       "      <th>32</th>\n",
       "      <td>1572620091396878338</td>\n",
       "      <td>Wed Sep 21 16:13:42 +0000 2022</td>\n",
       "      <td>Elon Musk</td>\n",
       "      <td>@teslaownersSV @Teslarati Maybe little electri...</td>\n",
       "      <td>4931</td>\n",
       "      <td>347</td>\n",
       "      <td>107254713</td>\n",
       "      <td>None</td>\n",
       "      <td>122</td>\n",
       "      <td>[]</td>\n",
       "    </tr>\n",
       "  </tbody>\n",
       "</table>\n",
       "</div>"
      ],
      "text/plain": [
       "                     id                      created_at       user  \\\n",
       "21  1572620091396878338  Wed Sep 21 16:13:42 +0000 2022  Elon Musk   \n",
       "32  1572620091396878338  Wed Sep 21 16:13:42 +0000 2022  Elon Musk   \n",
       "\n",
       "                                                 text  favorite_count  \\\n",
       "21  @teslaownersSV @Teslarati Maybe little electri...            4931   \n",
       "32  @teslaownersSV @Teslarati Maybe little electri...            4931   \n",
       "\n",
       "    retweet_count  followers_count following_count  friends_count hashtags  \n",
       "21            347        107254708            None            122       []  \n",
       "32            347        107254713            None            122       []  "
      ]
     },
     "execution_count": 106,
     "metadata": {},
     "output_type": "execute_result"
    }
   ],
   "source": [
    "data[data['user']== 'Elon Musk']"
   ]
  },
  {
   "cell_type": "code",
   "execution_count": null,
   "metadata": {},
   "outputs": [],
   "source": []
  }
 ],
 "metadata": {
  "colab": {
   "collapsed_sections": [],
   "name": "Twitter.ipynb",
   "provenance": []
  },
  "kernelspec": {
   "display_name": "Python 3 (ipykernel)",
   "language": "python",
   "name": "python3"
  },
  "language_info": {
   "codemirror_mode": {
    "name": "ipython",
    "version": 3
   },
   "file_extension": ".py",
   "mimetype": "text/x-python",
   "name": "python",
   "nbconvert_exporter": "python",
   "pygments_lexer": "ipython3",
   "version": "3.9.12"
  },
  "toc": {
   "base_numbering": 1,
   "nav_menu": {},
   "number_sections": true,
   "sideBar": true,
   "skip_h1_title": false,
   "title_cell": "Table of Contents",
   "title_sidebar": "Contents",
   "toc_cell": false,
   "toc_position": {},
   "toc_section_display": true,
   "toc_window_display": false
  },
  "varInspector": {
   "cols": {
    "lenName": 16,
    "lenType": 16,
    "lenVar": 40
   },
   "kernels_config": {
    "python": {
     "delete_cmd_postfix": "",
     "delete_cmd_prefix": "del ",
     "library": "var_list.py",
     "varRefreshCmd": "print(var_dic_list())"
    },
    "r": {
     "delete_cmd_postfix": ") ",
     "delete_cmd_prefix": "rm(",
     "library": "var_list.r",
     "varRefreshCmd": "cat(var_dic_list()) "
    }
   },
   "types_to_exclude": [
    "module",
    "function",
    "builtin_function_or_method",
    "instance",
    "_Feature"
   ],
   "window_display": false
  }
 },
 "nbformat": 4,
 "nbformat_minor": 1
}
